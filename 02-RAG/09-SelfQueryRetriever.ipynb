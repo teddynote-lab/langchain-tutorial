{
 "cells": [
  {
   "cell_type": "markdown",
   "id": "5a03e0f7",
   "metadata": {},
   "source": "# SelfQueryRetriever - 지능형 검색 시스템\n\n## 개요\n\n**SelfQueryRetriever**는 자연어 질의를 구조화된 검색 조건으로 변환하여 메타데이터 기반의 정밀한 검색을 수행하는 고급 검색 도구입니다.\n\n## 일반 검색 vs SelfQueryRetriever 비교\n\n### 일반 검색의 한계\n\n일반적인 키워드 기반 검색 시스템:\n- 사용자: \"2023년도 스킨케어 제품 추천해줘\"\n- 시스템: \"2023\", \"스킨케어\", \"추천\" 키워드로만 단순 검색\n- **문제점**: 연도와 카테고리 조건을 구분하지 못함\n\n### SelfQueryRetriever의 지능형 검색\n\n동일한 질의에 대한 SelfQueryRetriever 처리:\n- 사용자: \"2023년도 스킨케어 제품 추천해줘\"\n- 시스템 분석:\n  - 연도 조건: `year = 2023`\n  - 카테고리 조건: `category = \"스킨케어\"`\n- **결과**: 메타데이터 필터를 적용하여 정확한 검색 수행\n\n## SelfQueryRetriever의 핵심 장점\n\n| 특징 | 설명 | 장점 |\n|------|------|------|\n| **정밀 필터링** | 메타데이터를 활용한 구조화된 검색 | 검색 정확도 대폭 향상 |\n| **자연어 처리** | 복잡한 조건을 자연어로 표현 가능 | 사용자 편의성 증대 |\n| **유연한 조건** | 다양한 비교 연산자 지원 | 세밀한 검색 조건 설정 |\n| **의도 파악** | 사용자 질의 의도를 정확하게 해석 | 검색 만족도 향상 |\n\n## 학습 목표\n\n이 튜토리얼을 통해 다음 내용을 학습합니다:\n\n1. **환경 설정**: 튜토리얼 실행 환경 구성\n2. **샘플 데이터 생성**: 화장품 데이터를 활용한 실습 환경 구축\n3. **SelfQueryRetriever 구성**: 핵심 구성 요소 설정\n4. **기본 검색**: 단일 조건 검색 테스트\n5. **복합 조건 검색**: 다중 조건 동시 적용\n6. **검색 결과 제한**: k 파라미터를 통한 결과 수 조절\n7. **내부 구조 분석**: Query Constructor와 Translator의 역할 이해\n\n## 핵심 개념\n\n- **Query Constructor**: 자연어 질의를 구조화된 쿼리로 변환\n- **Structured Query Translator**: 구조화된 쿼리를 벡터스토어 전용 필터로 변환\n- **메타데이터 필터링**: 속성 기반의 정밀한 검색 조건 적용\n- **AttributeInfo**: 메타데이터 필드의 타입과 설명 정보 정의"
  },
  {
   "cell_type": "code",
   "execution_count": null,
   "id": "dd5cfe5f",
   "metadata": {},
   "outputs": [],
   "source": "# API 키를 환경변수로 관리하기 위한 설정 파일\nfrom dotenv import load_dotenv\n\n# API 키 정보 로드\nload_dotenv(override=True)"
  },
  {
   "cell_type": "markdown",
   "id": "m2iy8238yh",
   "source": "## 환경 설정\n\nSelfQueryRetriever 사용을 위한 필수 라이브러리와 API 키 설정을 진행합니다.",
   "metadata": {}
  },
  {
   "cell_type": "code",
   "execution_count": null,
   "id": "a2e8e07c",
   "metadata": {},
   "outputs": [],
   "source": "# LangSmith 추적을 설정합니다. https://smith.langchain.com\n# !pip install langchain-teddynote\nfrom langchain_teddynote import logging\n\n# 프로젝트 이름을 입력합니다.\nlogging.langsmith(\"LangChain-Tutorial\")"
  },
  {
   "cell_type": "markdown",
   "id": "468e6696",
   "metadata": {},
   "source": "## 샘플 데이터 생성\n\n### 화장품 데이터베이스 구축\n\n실제 화장품 온라인몰에서 사용할 수 있는 상품 데이터를 생성하여 SelfQueryRetriever의 기능을 실습합니다.\n\n### 데이터 구조\n\n각 화장품 제품은 다음과 같은 정보를 포함합니다:\n\n| 속성 | 데이터 타입 | 설명 | 예시 |\n|------|-------------|------|------|\n| **page_content** | string | 제품 상세 설명 | \"수분 가득한 히알루론산 세럼...\" |\n| **year** | integer | 제품 출시 연도 | 2023, 2024 |\n| **category** | string | 제품 카테고리 | 스킨케어, 메이크업, 클렌징, 선케어 |\n| **user_rating** | float | 사용자 평점 (1-5점) | 4.7, 4.5, 4.8 |"
  },
  {
   "cell_type": "markdown",
   "id": "b96636f8",
   "metadata": {},
   "source": "### 벡터 저장소 구축\n\n화장품 상품 정보를 **벡터 형태로 저장**하여 의미적 유사도 검색이 가능한 데이터베이스를 구축합니다.\n\n#### 벡터 저장소의 역할\n\n벡터 저장소는 텍스트를 수치 벡터로 변환하여 저장하는 데이터베이스입니다. 이를 통해:\n\n- **의미적 유사도 검색**: 키워드 일치가 아닌 의미적 유사성으로 검색\n- **메타데이터 필터링**: 구조화된 속성 정보를 활용한 정밀 검색\n- **하이브리드 검색**: 벡터 검색과 메타데이터 필터링의 결합"
  },
  {
   "cell_type": "code",
   "execution_count": null,
   "id": "19f836a1",
   "metadata": {},
   "outputs": [],
   "source": "from langchain_chroma import Chroma\nfrom langchain_core.documents import Document\nfrom langchain_openai import OpenAIEmbeddings\n\n# 화장품 상품의 설명과 메타데이터 생성\ndocs = [\n    Document(\n        page_content=\"수분 가득한 히알루론산 세럼으로 피부 속 깊은 곳까지 수분을 공급합니다.\",\n        metadata={\"year\": 2024, \"category\": \"스킨케어\", \"user_rating\": 4.7},  # 메타데이터: 연도, 카테고리, 평점\n    ),\n    Document(\n        page_content=\"24시간 지속되는 매트한 피니시의 파운데이션, 모공을 커버하고 자연스러운 피부 표현이 가능합니다.\",\n        metadata={\"year\": 2023, \"category\": \"메이크업\", \"user_rating\": 4.5},  # 메타데이터: 연도, 카테고리, 평점\n    ),\n    Document(\n        page_content=\"식물성 성분으로 만든 저자극 클렌징 오일, 메이크업과 노폐물을 부드럽게 제거합니다.\",\n        metadata={\"year\": 2023, \"category\": \"클렌징\", \"user_rating\": 4.8},  # 메타데이터: 연도, 카테고리, 평점\n    ),\n    Document(\n        page_content=\"비타민 C 함유 브라이트닝 크림, 칙칙한 피부톤을 환하게 밝혀줍니다.\",\n        metadata={\"year\": 2023, \"category\": \"스킨케어\", \"user_rating\": 4.6},  # 메타데이터: 연도, 카테고리, 평점\n    ),\n    Document(\n        page_content=\"롱래스팅 립스틱, 선명한 발색과 촉촉한 사용감으로 하루종일 편안하게 사용 가능합니다.\",\n        metadata={\"year\": 2024, \"category\": \"메이크업\", \"user_rating\": 4.4},  # 메타데이터: 연도, 카테고리, 평점\n    ),\n    Document(\n        page_content=\"자외선 차단 기능이 있는 톤업 선크림, SPF50+/PA++++ 높은 자외선 차단 지수로 피부를 보호합니다.\",\n        metadata={\"year\": 2024, \"category\": \"선케어\", \"user_rating\": 4.9},  # 메타데이터: 연도, 카테고리, 평점\n    ),\n]\n\n# 벡터 저장소 생성: 문서들을 벡터로 변환하여 Chroma DB에 저장\nvectorstore = Chroma.from_documents(\n    docs, OpenAIEmbeddings(model=\"text-embedding-3-small\")  # OpenAI 임베딩 모델 사용\n)"
  },
  {
   "cell_type": "markdown",
   "id": "781d49bf",
   "metadata": {},
   "source": "## SelfQueryRetriever 구성\n\n### 지능형 검색 시스템 구축\n\nSelfQueryRetriever가 올바르게 작동하려면 두 가지 핵심 정보가 필요합니다:\n\n#### 필수 구성 요소\n\n| 구성 요소 | 역할 | 예시 |\n|-----------|------|------|\n| **메타데이터 필드 정보** | 가능한 필터링 조건 정의 | \"카테고리는 문자열, 연도는 숫자, 평점은 실수\" |\n| **문서 내용 설명** | 저장된 문서의 주제 요약 | \"화장품 상품 정보\" |\n\n#### 정보 제공의 중요성\n\n이러한 정보가 필요한 이유:\n\n1. **필드 타입 인식**: AI가 각 메타데이터 필드의 데이터 타입을 정확히 파악\n2. **검색 범위 이해**: 어떤 종류의 문서를 검색하는지 맥락 제공\n3. **쿼리 변환 정확도**: 자연어 질의를 적절한 필터 조건으로 변환\n4. **오류 방지**: 잘못된 필터 조건 생성 방지\n\n#### 동작 과정\n\n```\n사용자 질의 → 메타데이터 분석 → 필터 조건 생성 → 정밀 검색 → 결과 반환\n```"
  },
  {
   "cell_type": "markdown",
   "id": "3d43f000",
   "metadata": {},
   "source": "### 메타데이터 필드 정보 정의\n\n`AttributeInfo`는 각 메타데이터 필드의 세부 정보를 정의하는 클래스입니다. \n\n#### 화장품 데이터 메타데이터 정의\n\n각 필드별 상세 정보:\n\n| 필드명 | 데이터 타입 | 설명 | 가능한 값 |\n|--------|-------------|------|-----------|\n| **category** | string | 화장품 카테고리 | 스킨케어, 메이크업, 클렌징, 선케어 |\n| **year** | integer | 제품 출시 연도 | 2023, 2024 |\n| **user_rating** | float | 고객 만족도 점수 | 1.0 ~ 5.0 |\n\n#### AttributeInfo의 역할\n\nAI가 사용자 질의를 해석할 때:\n\n1. **타입 기반 연산**: \"평점이 4.5 이상\" → `user_rating >= 4.5` (float 비교)\n2. **값 범위 검증**: 허용되지 않는 카테고리 값 필터링\n3. **적절한 비교 연산자 선택**: 문자열은 등호(=), 숫자는 부등호(>, <, >=, <=) 사용\n\n#### 정의 예시\n\n```python\nAttributeInfo(\n    name=\"user_rating\",\n    description=\"A user rating for the cosmetic product, ranging from 1 to 5\",\n    type=\"float\",\n)\n```"
  },
  {
   "cell_type": "code",
   "execution_count": null,
   "id": "8dd17e37",
   "metadata": {},
   "outputs": [],
   "source": "from langchain.chains.query_constructor.base import AttributeInfo\n\n\n# 메타데이터 필드 정보 생성: AI가 각 필드를 어떻게 해석해야 하는지 알려주는 정보\nmetadata_field_info = [\n    AttributeInfo(\n        name=\"category\",  # 필드명: category\n        description=\"The category of the cosmetic product. One of ['스킨케어', '메이크업', '클렌징', '선케어']\",  # 화장품 카테고리 설명\n        type=\"string\",  # 데이터 타입: 문자열\n    ),\n    AttributeInfo(\n        name=\"year\",  # 필드명: year\n        description=\"The year the cosmetic product was released\",  # 제품 출시 연도 설명\n        type=\"integer\",  # 데이터 타입: 정수\n    ),\n    AttributeInfo(\n        name=\"user_rating\",  # 필드명: user_rating\n        description=\"A user rating for the cosmetic product, ranging from 1 to 5\",  # 사용자 평점 설명 (1-5점)\n        type=\"float\",  # 데이터 타입: 실수\n    ),\n]"
  },
  {
   "cell_type": "markdown",
   "id": "00be94e2",
   "metadata": {},
   "source": "### SelfQueryRetriever 객체 생성\n\n모든 구성 요소를 조합하여 지능형 검색 시스템을 구축합니다.\n\n#### 필요 구성 요소\n\n| 구성 요소 | 역할 | 설명 |\n|-----------|------|------|\n| **llm** | 언어 모델 | 사용자 질의를 이해하고 분석 |\n| **vectorstore** | 벡터 데이터베이스 | 상품 정보가 저장된 검색 대상 |\n| **document_contents** | 문서 내용 설명 | 검색 대상 문서의 주제 요약 |\n| **metadata_field_info** | 메타데이터 정보 | 필터링 가능한 속성들의 정의 |\n\n#### SelfQueryRetriever 처리 과정\n\n1. **질의 수신**: \"2023년도 스킨케어 제품 추천해줘\"\n2. **질의 분석**: LLM이 자연어 질의를 구조화된 조건으로 변환\n3. **필터 생성**: `year=2023 AND category=\"스킨케어\"`\n4. **검색 실행**: 벡터스토어에서 조건에 맞는 제품 검색\n5. **결과 반환**: 필터링된 검색 결과를 사용자에게 제공\n\n#### 검색 정확도 향상\n\nSelfQueryRetriever는 다음과 같은 방식으로 검색 정확도를 향상시킵니다:\n\n- **의미적 검색**: 텍스트 내용의 의미적 유사도 활용\n- **메타데이터 필터링**: 구조화된 속성 조건 적용\n- **하이브리드 검색**: 두 방식의 결합으로 최적의 결과 제공"
  },
  {
   "cell_type": "code",
   "execution_count": null,
   "id": "b1fb20bf",
   "metadata": {},
   "outputs": [],
   "source": "import os\nfrom langchain.retrievers.self_query.base import SelfQueryRetriever\nfrom langchain_openai import ChatOpenAI\n\n# LLM 정의: 사용자 질문을 이해하고 구조화된 쿼리를 생성할 언어 모델\nllm = ChatOpenAI(\n    model=\"openai/gpt-4.1\",\n    temperature=0,\n    api_key=os.getenv(\"OPENROUTER_API_KEY\"),\n    base_url=os.getenv(\"OPENROUTER_BASE_URL\"),\n)\n\n# SelfQueryRetriever 생성: 자연어 질문을 메타데이터 필터가 포함된 검색으로 변환\nretriever = SelfQueryRetriever.from_llm(\n    llm=llm,  # 사용할 언어 모델\n    vectorstore=vectorstore,  # 검색할 벡터 저장소\n    document_contents=\"Brief summary of a cosmetic product\",  # 문서 내용에 대한 간단한 설명\n    metadata_field_info=metadata_field_info,  # 메타데이터 필드 정보\n)"
  },
  {
   "cell_type": "markdown",
   "id": "427dfb18",
   "metadata": {},
   "source": "## 기본 검색 테스트\n\n### 단일 조건 검색 실습\n\nSelfQueryRetriever의 지능형 검색 기능을 다양한 단일 조건으로 테스트합니다."
  },
  {
   "cell_type": "markdown",
   "id": "a4fa4817",
   "metadata": {},
   "source": "#### 테스트 시나리오\n\n각 검색에서 SelfQueryRetriever가 자동으로 생성하는 필터 조건을 확인합니다:\n\n| 테스트 케이스 | 사용자 질의 | 자동 생성 필터 | 검색 대상 |\n|---------------|-------------|----------------|-----------|\n| **평점 조건** | \"평점이 4.8 이상인 제품\" | `user_rating >= 4.8` | 고평점 제품 |\n| **연도 조건** | \"2023년에 출시된 상품\" | `year = 2023` | 특정 연도 제품 |\n| **카테고리 조건** | \"선케어 상품\" | `category = \"선케어\"` | 특정 카테고리 제품 |\n\n#### 검색 결과 분석 포인트\n\n- **필터 정확도**: 자연어 질의가 올바른 메타데이터 필터로 변환되는가?\n- **검색 범위**: 지정된 조건에 맞는 제품만 반환되는가?\n- **결과 품질**: 검색된 제품이 사용자 의도에 부합하는가?"
  },
  {
   "cell_type": "code",
   "execution_count": null,
   "id": "a59b1e5c",
   "metadata": {},
   "outputs": [],
   "source": "# Self-query 검색: 평점 조건 필터링\n# \"평점이 4.8 이상인 제품\" → user_rating >= 4.8 조건으로 자동 변환\nretriever.invoke(\"평점이 4.8 이상인 제품을 추천해주세요\")"
  },
  {
   "cell_type": "code",
   "execution_count": null,
   "id": "0cf6368b",
   "metadata": {},
   "outputs": [],
   "source": "# Self-query 검색: 연도 조건 필터링  \n# \"2023년에 출시된 상품\" → year = 2023 조건으로 자동 변환\nretriever.invoke(\"2023년에 출시된 상품을 추천해주세요\")"
  },
  {
   "cell_type": "code",
   "execution_count": null,
   "id": "172ddf61",
   "metadata": {},
   "outputs": [],
   "source": "# Self-query 검색: 카테고리 조건 필터링\n# \"카테고리가 선케어인 상품\" → category = \"선케어\" 조건으로 자동 변환\nretriever.invoke(\"카테고리가 선케어인 상품을 추천해주세요\")"
  },
  {
   "cell_type": "markdown",
   "id": "a5cea901",
   "metadata": {},
   "source": "## 복합 조건 검색\n\n### 다중 조건 동시 적용\n\nSelfQueryRetriever의 진정한 강점은 **복합 조건 검색**에 있습니다.\n\n#### 복합 조건 검색의 장점\n\n| 구분 | 일반 검색 | SelfQueryRetriever |\n|------|-----------|-------------------|\n| **처리 방식** | \"메이크업 4.5점\" 키워드 검색 | `category = \"메이크업\" AND user_rating >= 4.5` |\n| **검색 정확도** | 키워드 일치에 의존 | 정확한 조건 필터링 |\n| **결과 품질** | 부정확한 결과 포함 가능 | 조건을 만족하는 결과만 반환 |\n\n#### 실제 활용 시나리오\n\n복합 조건 검색은 다음과 같은 상황에서 유용합니다:\n\n- **전자상거래**: \"브랜드 + 가격대 + 평점\" 동시 필터링\n- **부동산 검색**: \"지역 + 가격 + 면적\" 조건 조합\n- **도서 검색**: \"장르 + 출간연도 + 평점\" 복합 조건\n- **여행 검색**: \"지역 + 예산 + 평점 + 날짜\" 다중 조건\n\n#### 검색 과정\n\n```\n사용자 질의: \"메이크업 제품 중 평점 4.5점 이상\"\n↓\n조건 분해: category = \"메이크업\" AND user_rating >= 4.5\n↓\n필터 적용: 두 조건을 모두 만족하는 제품만 검색\n↓\n결과 반환: 정확히 일치하는 제품 목록\n```"
  },
  {
   "cell_type": "code",
   "execution_count": null,
   "id": "20f38f98",
   "metadata": {},
   "outputs": [],
   "source": "# Self-query 검색: 복합 조건 필터링 (카테고리 + 평점)\n# \"메이크업 + 평점 4.5 이상\" → category = \"메이크업\" AND user_rating >= 4.5 조건으로 자동 변환\nretriever.invoke(\n    \"카테고리가 메이크업인 상품 중에서 평점이 4.5 이상인 상품을 추천해주세요\"\n)"
  },
  {
   "cell_type": "markdown",
   "id": "2af3ea60",
   "metadata": {},
   "source": "## 검색 결과 수 제한\n\n### k 파라미터를 통한 결과 제어\n\n검색 결과의 개수를 제한하여 성능 최적화와 사용자 경험을 향상시킬 수 있습니다.\n\n#### k 파라미터 개념\n\n| 설정 방법 | 구현 방식 | 예시 |\n|-----------|-----------|------|\n| **코드 설정** | `search_kwargs={\"k\": N}` | 항상 N개 결과 반환 |\n| **자연어 설정** | 질의에 숫자 포함 | \"3개만 추천해줘\" → 자동으로 k=3 |\n\n#### 결과 수 제한의 이점\n\n**성능 최적화**\n- 네트워크 전송량 감소\n- 응답 속도 향상\n- 메모리 사용량 절약\n\n**사용자 경험 개선**\n- 핵심 결과에 집중\n- 화면 공간 효율적 활용\n- 빠른 의사결정 지원\n\n#### 적용 시나리오\n\n| 상황 | 권장 k 값 | 이유 |\n|------|-----------|------|\n| **빠른 미리보기** | k=2~3 | 대략적인 결과 확인 |\n| **상세 비교** | k=5~10 | 충분한 선택지 제공 |\n| **모바일 화면** | k=3~5 | 화면 크기 제약 |\n| **API 응답 최적화** | k=1~3 | 응답 속도 우선 |"
  },
  {
   "cell_type": "code",
   "execution_count": null,
   "id": "959cc5f4",
   "metadata": {},
   "outputs": [],
   "source": "# 검색 결과 수 제한 기능이 있는 retriever 생성\nretriever = SelfQueryRetriever.from_llm(\n    llm=llm,  # 언어 모델\n    vectorstore=vectorstore,  # 벡터 저장소\n    document_contents=\"Brief summary of a cosmetic product\",  # 문서 내용 설명\n    metadata_field_info=metadata_field_info,  # 메타데이터 필드 정보\n    enable_limit=True,  # 검색 결과 제한 기능을 활성화\n    search_kwargs={\"k\": 2},  # k 값을 2로 지정하여 검색 결과를 2개로 제한\n)"
  },
  {
   "cell_type": "markdown",
   "id": "c86c0dfb",
   "metadata": {},
   "source": "#### 실험 환경\n\n테스트 데이터에는 **2023년 출시 상품이 3개**가 있지만, `k=2` 설정으로 **상위 2개만** 반환하여 결과 제한 기능을 확인합니다."
  },
  {
   "cell_type": "code",
   "execution_count": null,
   "id": "4628ffbc",
   "metadata": {},
   "outputs": [],
   "source": "# Self-query 검색: k=2로 제한된 결과\n# 2023년 출시 상품은 3개 있지만 k=2 설정으로 상위 2개만 반환\nretriever.invoke(\"2023년에 출시된 상품을 추천해주세요\")"
  },
  {
   "cell_type": "markdown",
   "id": "ed520315",
   "metadata": {},
   "source": "### 자연어를 통한 결과 수 지정\n\n**직관적인 방법**으로 `search_kwargs` 설정 없이도 질의 내에 숫자를 포함시켜 AI가 자동으로 결과 수를 조절하도록 할 수 있습니다.\n\n#### 자연어 개수 지정의 장점\n\n| 방식 | 사용성 | 유연성 | 실제 서비스 적용 |\n|------|--------|--------|------------------|\n| **코드 설정** | 개발자 친화적 | 고정된 개수 | 시스템 레벨 제어 |\n| **자연어 지정** | 사용자 친화적 | 동적 개수 조절 | 대화형 인터페이스 |\n\n#### 자연어 패턴 예시\n\n- **\"1개만 추천해줘\"** → k=1 자동 설정\n- **\"상위 3개 보여줘\"** → k=3 자동 설정  \n- **\"5개 정도만\"** → k=5 자동 설정\n- **\"몇 개 추천\"** → 기본값 사용\n\n이러한 방식은 사용자가 **더 자연스럽게** 요청할 수 있어서 실제 서비스 환경에서 매우 유용합니다."
  },
  {
   "cell_type": "code",
   "execution_count": null,
   "id": "9b4cabe1",
   "metadata": {},
   "outputs": [],
   "source": "# 자연어로 개수 제한이 가능한 retriever 생성 (search_kwargs 없음)\nretriever = SelfQueryRetriever.from_llm(\n    llm=llm,  # 언어 모델\n    vectorstore=vectorstore,  # 벡터 저장소  \n    document_contents=\"Brief summary of a cosmetic product\",  # 문서 내용 설명\n    metadata_field_info=metadata_field_info,  # 메타데이터 필드 정보\n    enable_limit=True,  # 검색 결과 제한 기능을 활성화 (자연어 개수 인식 가능)\n)\n\n# Self-query 검색: 자연어로 개수 지정\n# \"1개를 추천해주세요\" → AI가 자동으로 k=1 설정\nretriever.invoke(\"2023년에 출시된 상품 1개를 추천해주세요\")"
  },
  {
   "cell_type": "code",
   "execution_count": null,
   "id": "9af3a1ab",
   "metadata": {},
   "outputs": [],
   "source": "# Self-query 검색: 자연어로 개수 지정 (2개)\n# \"2개를 추천해주세요\" → AI가 자동으로 k=2 설정\nretriever.invoke(\"2023년에 출시된 상품 2개를 추천해주세요\")"
  },
  {
   "cell_type": "markdown",
   "id": "72a35c08",
   "metadata": {},
   "source": "## 내부 동작 원리 분석\n\n### SelfQueryRetriever 아키텍처\n\nSelfQueryRetriever의 내부 구조를 분석하여 동작 메커니즘을 이해합니다.\n\n#### 핵심 구성 요소\n\nSelfQueryRetriever는 두 개의 주요 컴포넌트로 구성됩니다:\n\n| 컴포넌트 | 역할 | 입력 | 출력 |\n|----------|------|------|------|\n| **Query Constructor** | 쿼리 생성기 | 자연어 질의 | 구조화된 쿼리 |\n| **Structured Query Translator** | 쿼리 변환기 | 구조화된 쿼리 | 벡터스토어 전용 필터 |\n\n#### 처리 흐름\n\n```\n자연어 질의 → Query Constructor → 구조화된 쿼리 → Query Translator → 벡터스토어 필터 → 검색 실행\n```\n\n#### 아키텍처 분리의 장점\n\n**모듈화**\n- 각 컴포넌트의 독립적 개발 및 테스트\n- 기능별 최적화 가능\n- 유지보수 편의성 향상\n\n**확장성**\n- 다양한 벡터스토어 지원\n- Query Constructor 재사용\n- 새로운 Translator 추가 용이\n\n#### 직접 구현의 이점\n\n`SelfQueryRetriever.from_llm()` 대신 직접 조립하는 경우:\n\n| 항목 | 장점 | 활용 사례 |\n|------|------|-----------|\n| **프롬프트 커스터마이징** | 도메인 특화 최적화 | 전문 용어 처리 개선 |\n| **에러 핸들링** | 예외 상황 대응 | 잘못된 질의 처리 |\n| **성능 최적화** | 불필요한 단계 제거 | 응답 속도 향상 |\n| **디버깅** | 단계별 결과 확인 | 문제점 파악 및 해결 |\n\n#### 참고 자료\n\n- [LangChain 공식 쿡북](https://github.com/langchain-ai/langchain/blob/master/cookbook/self_query_hotel_search.ipynb)\n- Query Constructor 고급 설정 방법\n- 다양한 벡터스토어 Translator 사용법"
  },
  {
   "cell_type": "markdown",
   "id": "4a5e8059",
   "metadata": {},
   "source": "### Query Constructor Chain 생성\n\n**Query Constructor**는 SelfQueryRetriever의 핵심 두뇌로서 자연어 질의를 구조화된 검색 조건으로 변환합니다.\n\n#### 구성 요소\n\n| 구성 요소 | 역할 | 설명 |\n|-----------|------|------|\n| **Prompt** | AI 지시서 | 메타데이터 정보와 예시를 포함한 변환 가이드 |\n| **Output Parser** | 응답 파서 | AI 응답을 Python 객체로 변환 |\n| **LLM** | 언어 모델 | 실제 질의 이해 및 분석 수행 |\n\n#### Query Constructor의 역할\n\n```python\n# 입력 예시\nuser_query = \"2023년 스킨케어 제품 중 평점 4.5 이상\"\n\n# 출력 예시\nstructured_query = {\n    \"query\": \"스킨케어 제품\",\n    \"filter\": {\n        \"and\": [\n            {\"year\": {\"eq\": 2023}},\n            {\"category\": {\"eq\": \"스킨케어\"}},\n            {\"user_rating\": {\"gte\": 4.5}}\n        ]\n    }\n}\n```\n\n#### 프롬프트 생성 과정\n\n`get_query_constructor_prompt()` 함수는 다음 정보를 조합하여 AI용 지시서를 생성합니다:\n\n- **메타데이터 필드 설명**: 각 필드의 타입과 가능한 값\n- **문서 내용 요약**: 검색 대상 문서의 특성\n- **변환 규칙**: 자연어를 구조화된 쿼리로 변환하는 방법\n- **예시**: 성공적인 변환 사례들"
  },
  {
   "cell_type": "markdown",
   "id": "13881ef6",
   "metadata": {},
   "source": "### 쿼리 생성기 프롬프트 구조\n\n`get_query_constructor_prompt()` 함수는 AI가 자연어 질의를 정확하게 해석할 수 있도록 하는 **종합적인 가이드**를 생성합니다.\n\n#### 프롬프트 구성 요소\n\n| 구성 요소 | 내용 | 목적 |\n|-----------|------|------|\n| **메타데이터 필드 설명** | 필터링 가능한 속성 정보 | AI의 필드 이해도 향상 |\n| **문서 내용 요약** | 검색 대상 문서의 주제 | 검색 맥락 제공 |\n| **변환 예시** | 성공적인 질의 변환 사례 | 학습 패턴 제공 |\n| **출력 형식** | 결과 구조화 방법 | 일관된 응답 형식 보장 |\n\n#### 프롬프트의 중요성\n\n효과적인 프롬프트는 다음과 같은 역할을 수행합니다:\n\n1. **명확한 지시사항**: \"이런 질문이 들어오면 이렇게 해석하라\"\n2. **컨텍스트 제공**: \"우리는 화장품 데이터를 다루고 있다\"\n3. **오류 방지**: \"이런 실수를 하지 마라\"\n4. **일관성 보장**: \"결과는 항상 이 형식으로 제공하라\"\n\n#### 실무 최적화 팁\n\n프롬프트 품질 향상을 위한 방법:\n\n- **도메인 특화 예시 추가**: 실제 사용 케이스 반영\n- **에지 케이스 처리**: 예외 상황 대응 방법 명시\n- **명확한 필드 설명**: 데이터 타입과 가능한 값 범위 구체화"
  },
  {
   "cell_type": "code",
   "execution_count": null,
   "id": "8e9b180d",
   "metadata": {},
   "outputs": [],
   "source": "from langchain.chains.query_constructor.base import (\n    StructuredQueryOutputParser,\n    get_query_constructor_prompt,\n)\n\n# 문서 내용 설명과 메타데이터 필드 정보를 사용하여 쿼리 생성기 프롬프트를 가져옵니다.\nprompt = get_query_constructor_prompt(\n    \"Brief summary of a cosmetic product\",  # 문서 내용 설명\n    metadata_field_info,  # 메타데이터 필드 정보 (위에서 정의한 AttributeInfo 리스트)\n)\n\n# StructuredQueryOutputParser 를 생성: AI 응답을 구조화된 쿼리 객체로 변환\noutput_parser = StructuredQueryOutputParser.from_components()\n\n# query_constructor chain 을 생성: prompt → llm → output_parser 순으로 연결\nquery_constructor = prompt | llm | output_parser"
  },
  {
   "cell_type": "markdown",
   "id": "dd7e94a2",
   "metadata": {},
   "source": "#### 생성된 프롬프트 내용 확인\n\nAI에게 전달되는 실제 지시사항을 확인하여 프롬프트의 구조와 내용을 이해합니다.\n\n이를 통해 다음을 파악할 수 있습니다:\n\n- **메타데이터 필드 정의**: AI가 각 필드를 어떻게 인식하는지\n- **변환 규칙**: 자연어를 구조화된 쿼리로 변환하는 방법\n- **출력 형식**: 응답해야 할 JSON 구조\n- **예시 패턴**: 성공적인 변환 사례들"
  },
  {
   "cell_type": "code",
   "execution_count": null,
   "id": "74bc86da",
   "metadata": {},
   "outputs": [],
   "source": "# 프롬프트 내용 출력: AI에게 어떤 지시사항을 주고 있는지 확인\n# \"dummy question\"을 매개변수로 하여 실제 프롬프트 템플릿을 확인\nprint(prompt.format(query=\"dummy question\"))"
  },
  {
   "cell_type": "markdown",
   "id": "5e9d0f92",
   "metadata": {},
   "source": "#### Query Constructor 실행 테스트\n\n복잡한 조건이 포함된 자연어 질의를 Query Constructor에 입력하여 구조화된 쿼리로 변환되는 과정을 확인합니다.\n\n##### 테스트 질의\n\n**\"2023년도에 출시한 상품 중 평점이 4.5 이상인 상품중에서 스킨케어 제품을 추천해주세요\"**\n\n이 질의에는 다음 세 가지 조건이 포함되어 있습니다:\n\n| 조건 유형 | 조건 내용 | 예상 필터 |\n|-----------|-----------|-----------|\n| **연도 조건** | \"2023년도에 출시\" | `year = 2023` |\n| **평점 조건** | \"평점이 4.5 이상\" | `user_rating >= 4.5` |\n| **카테고리 조건** | \"스킨케어 제품\" | `category = \"스킨케어\"` |\n\nAI가 이 복합 조건들을 어떻게 정확한 구조화된 쿼리로 변환하는지 관찰할 수 있습니다."
  },
  {
   "cell_type": "code",
   "execution_count": null,
   "id": "bc33a7ac",
   "metadata": {},
   "outputs": [],
   "source": "# Query Constructor 실행: 복잡한 자연어 질문을 구조화된 쿼리로 변환\nquery_output = query_constructor.invoke(\n    {\n        # 복잡한 조건이 포함된 질문: 연도(2023) + 평점(4.5이상) + 카테고리(스킨케어)  \n        \"query\": \"2023년도에 출시한 상품 중 평점이 4.5 이상인 상품중에서 스킨케어 제품을 추천해주세요\"\n    }\n)"
  },
  {
   "cell_type": "markdown",
   "id": "ffed6519",
   "metadata": {},
   "source": "#### 구조화된 쿼리 결과 분석\n\nQuery Constructor가 자연어 질의를 어떻게 해석하고 구조화된 조건으로 변환했는지 확인합니다.\n\n**원본 질의**: \"2023년도에 출시한 상품 중 평점이 4.5 이상인 상품중에서 스킨케어 제품을 추천해주세요\"\n\n##### 기대되는 변환 결과\n\nAI가 추출해야 할 핵심 필터 조건들:\n\n- **연도 필터**: `year` 필드에 2023 값 적용\n- **평점 필터**: `user_rating` 필드에 4.5 이상 조건 적용  \n- **카테고리 필터**: `category` 필드에 \"스킨케어\" 값 적용\n- **논리 연산**: 모든 조건을 AND로 결합"
  },
  {
   "cell_type": "code",
   "execution_count": null,
   "id": "c5d13f2f",
   "metadata": {},
   "outputs": [],
   "source": "# 생성된 구조화 쿼리의 필터 조건 확인\n# AI가 자연어 질문에서 추출한 필터 조건들을 출력\nquery_output.filter.arguments"
  },
  {
   "cell_type": "markdown",
   "id": "7f762ab4",
   "metadata": {},
   "source": "### Query Constructor 최적화 전략\n\n**SelfQueryRetriever의 성능은 Query Constructor의 품질에 직접적으로 의존합니다.** 효과적인 최적화를 통해 검색 정확도를 크게 향상시킬 수 있습니다.\n\n#### 최적화 방법론\n\n| 최적화 영역 | 방법 | 효과 |\n|-------------|------|------|\n| **프롬프트 튜닝** | 도메인 특화 예시 추가 | 변환 정확도 향상 |\n| **속성 설명 개선** | 명확한 필드 정의 | 오류 감소 |\n| **예시 데이터 확장** | Few-shot 학습 강화 | 복잡한 질의 처리 개선 |\n\n#### 실무 최적화 체크리스트\n\n**프롬프트 품질 개선**\n- 도메인 전문 용어 정의 추가\n- 자주 발생하는 실수 패턴 방지 규칙 명시\n- 성공적인 변환 사례 다양화\n\n**메타데이터 정의 강화**\n- 데이터 타입과 범위 명확히 명시\n- 가능한 값들의 구체적 예시 제공\n- 필드 간 관계성 설명 추가\n\n**성능 검증 프로세스**\n- 다양한 질의 패턴으로 반복 테스트\n- 실패 사례 분석 및 프롬프트 개선\n- A/B 테스트를 통한 최적화 효과 검증\n\n#### 지속적 개선 전략\n\n효과적인 SelfQueryRetriever 구축을 위한 핵심 원칙:\n\n1. **도메인 전문성**: 해당 분야의 용어와 패턴 숙지\n2. **사용자 행동 분석**: 실제 질의 패턴 파악 및 반영\n3. **반복적 검증**: 지속적인 테스트와 개선\n4. **데이터 기반 최적화**: 실패 사례 분석을 통한 체계적 개선"
  },
  {
   "cell_type": "markdown",
   "id": "6422bc8b",
   "metadata": {},
   "source": "### 구조화된 쿼리 변환기 (Structured Query Translator)"
  },
  {
   "cell_type": "markdown",
   "id": "a88986cf",
   "metadata": {},
   "source": "#### 벡터스토어별 전용 변환기\n\n**Structured Query Translator**는 각 벡터스토어의 고유한 쿼리 문법에 맞춰 구조화된 쿼리를 변환하는 컴포넌트입니다.\n\n#### 벡터스토어별 문법 차이\n\n동일한 조건 `{year: 2023}`을 각 벡터스토어에서 표현하는 방법:\n\n| 벡터스토어 | 필터 문법 | 예시 |\n|------------|-----------|------|\n| **Chroma** | MongoDB 스타일 | `{\"year\": {\"$eq\": 2023}}` |\n| **Pinecone** | 키-값 형식 | `year=2023` |\n| **Weaviate** | GraphQL 스타일 | `where: {path: [\"year\"], operator: Equal, valueInt: 2023}` |\n\n#### ChromaTranslator의 역할\n\nChroma 데이터베이스 사용 시 ChromaTranslator가 수행하는 변환:\n\n```python\n# 입력: 표준 구조화 쿼리\nstructured_query = {\n    \"query\": \"스킨케어 제품\",\n    \"filter\": {\"year\": {\"eq\": 2023}}\n}\n\n# 출력: Chroma 전용 필터\nchroma_filter = {\"year\": {\"$eq\": 2023}}\n```\n\n#### 아키텍처의 확장성\n\n이러한 분리된 구조의 장점:\n\n| 장점 | 설명 | 활용 |\n|------|------|------|\n| **벡터스토어 독립성** | Query Constructor 재사용 가능 | 다양한 DB 지원 |\n| **유지보수성** | 각 컴포넌트 독립적 수정 | 문법 변경 대응 |\n| **확장성** | 새 벡터스토어 지원 용이 | Translator만 추가 |"
  },
  {
   "cell_type": "code",
   "execution_count": null,
   "id": "a4d228d3",
   "metadata": {},
   "outputs": [],
   "source": "from langchain.retrievers.self_query.chroma import ChromaTranslator\n\n# 직접 구성한 구성 요소들로 SelfQueryRetriever 생성\nretriever = SelfQueryRetriever(\n    query_constructor=query_constructor,  # 이전에 생성한 query_constructor chain을 지정 (자연어 → 구조화 쿼리)\n    vectorstore=vectorstore,  # 검색할 벡터 저장소 (Chroma DB)\n    structured_query_translator=ChromaTranslator(),  # 쿼리 변환기 (구조화 쿼리 → Chroma 필터 문법)\n)"
  },
  {
   "cell_type": "markdown",
   "id": "941b5561",
   "metadata": {},
   "source": "### 완성된 SelfQueryRetriever 테스트\n\n직접 구축한 SelfQueryRetriever의 최종 동작을 확인합니다.\n\n#### 테스트 시나리오\n\n**복합 조건 질의**: \"2023년도에 출시한 상품 중 평점이 4.5 이상인 상품중에서 스킨케어 제품을 추천해주세요\"\n\n#### 예상 처리 과정\n\n1. **Query Constructor**: 자연어 → 구조화 쿼리 변환\n2. **ChromaTranslator**: 구조화 쿼리 → Chroma 필터 변환\n3. **Vectorstore**: 필터링된 검색 실행\n4. **결과 반환**: 모든 조건을 만족하는 제품들\n\n#### 검증 포인트\n\n- **구성 요소 통합**: 각 컴포넌트가 올바르게 연결되어 작동하는가?\n- **결과 정확성**: `from_llm()` 방식과 동일한 결과를 제공하는가?\n- **성능**: 직접 구축 방식의 성능은 어떠한가?"
  },
  {
   "cell_type": "code",
   "execution_count": null,
   "id": "ad4b4199",
   "metadata": {},
   "outputs": [],
   "source": "# 직접 구성한 SelfQueryRetriever 최종 테스트\n# 복잡한 조건의 질문을 통해 모든 구성 요소가 제대로 작동하는지 확인\nretriever.invoke(\n    # 질문: 여러 조건이 포함된 복합 질문 (연도 + 평점 + 카테고리)\n    \"2023년도에 출시한 상품 중 평점이 4.5 이상인 상품중에서 스킨케어 제품을 추천해주세요\"\n)"
  }
 ],
 "metadata": {
  "kernelspec": {
   "display_name": "py-test",
   "language": "python",
   "name": "python3"
  },
  "language_info": {
   "codemirror_mode": {
    "name": "ipython",
    "version": 3
   },
   "file_extension": ".py",
   "mimetype": "text/x-python",
   "name": "python",
   "nbconvert_exporter": "python",
   "pygments_lexer": "ipython3",
   "version": "3.11.9"
  }
 },
 "nbformat": 4,
 "nbformat_minor": 5
}