{
 "cells": [
  {
   "cell_type": "markdown",
   "id": "6e8b2a6f",
   "metadata": {},
   "source": "# Cohere Reranker를 활용한 검색 결과 최적화\n\n## 개요\n\n**Cohere Reranker**는 기존 검색 결과의 **관련성을 재평가하여 순서를 최적화**하는 자연언어 처리 도구입니다. 초기 검색에서 얻은 문서들을 질의와의 관련성에 따라 재정렬함으로써 검색 품질을 향상시킵니다.\n\n### 검색 결과 개선 원리\n\n일반적인 검색 시스템과 Reranker 적용 시스템의 차이점을 살펴보겠습니다.\n\n#### 기본 검색 시스템 (Retriever만 사용)\n\n```\n질의: \"블루투스 이어폰\"\n결과:\n1. 블루투스 스피커\n2. 유선 이어폰  \n3. 블루투스 이어폰 ← 원하는 결과\n4. 헤드폰\n5. 이어폰 케이스\n```\n\n#### Reranker 적용 시스템\n\n```\n질의: \"블루투스 이어폰\"\n결과:\n1. 블루투스 이어폰 ← 가장 관련성 높은 결과가 상위로\n2. 무선 이어폰\n3. 에어팟 유형 이어폰\n4. 블루투스 헤드폰\n5. 블루투스 스피커\n```\n\n### Cohere Reranker의 주요 특징\n\n| 특징 | 설명 |\n|------|------|\n| **정확성 향상** | 질의와의 의미적 관련성을 정밀하게 평가 |\n| **맥락 이해** | 단순한 키워드 매칭을 넘어선 문맥적 이해 |\n| **다국어 지원** | 한국어를 포함한 100개 이상 언어 지원 |\n| **LangChain 통합** | 기존 LangChain 파이프라인과 완벽 호환 |\n\n### 학습 내용\n\n1. **환경 설정**\n   - Cohere API 키 설정\n   - 필요한 라이브러리 설치\n\n2. **기본 사용법**\n   - 문서 로드 및 벡터 저장소 구축\n   - 기본 검색 시스템 구현\n\n3. **Reranker 적용**\n   - CohereRerank 설정\n   - ContextualCompressionRetriever와 결합\n   - 성능 비교 분석\n\n### Cohere 플랫폼 소개\n\n**Cohere**는 기업용 자연언어 처리 솔루션을 제공하는 AI 플랫폼입니다.\n\n- **전문 분야**: 자연언어 이해, 텍스트 생성, 검색 최적화\n- **공식 문서**: [Cohere Rerank API](https://docs.cohere.com/docs/reranking)\n- **핵심 장점**: 다국어 지원 및 높은 재정렬 성능\n\n참조: [Cohere 플랫폼 개요](https://docs.cohere.com/docs/the-cohere-platform)"
  },
  {
   "cell_type": "code",
   "execution_count": null,
   "id": "59e4104c",
   "metadata": {},
   "outputs": [],
   "source": [
    "# 설치\n",
    "# !pip install -qU cohere"
   ]
  },
  {
   "cell_type": "markdown",
   "id": "68f6dcf4",
   "metadata": {},
   "source": "---\n\n# 환경 설정\n\n## Cohere API 키 설정\n\nCohere Reranker를 사용하려면 **Cohere API 키**가 필요합니다.\n\n### API 키 발급 절차\n\n1. **Cohere 대시보드 접속**: [API 키 발급 페이지](https://dashboard.cohere.com/api-keys)\n2. **계정 생성 또는 로그인**\n3. **새 API 키 생성**\n4. **API 키 복사 및 저장**\n\n### 환경 변수 설정\n\n`.env` 파일에 다음과 같이 API 키를 설정합니다:\n\n```bash\nCOHERE_API_KEY=your_api_key_here\n```\n\n### 사용 가능한 Cohere 모델\n\n#### Embedding 모델\n\n| 모델명 | 설명 | 권장 용도 |\n|--------|------|----------|\n| `embed-multilingual-v3.0` | 최신 다국어 임베딩 모델 | **일반적 용도** (권장) |\n| `embed-multilingual-light-v3.0` | 경량화된 다국어 모델 | 빠른 처리가 필요한 경우 |\n| `embed-multilingual-v2.0` | 안정성이 검증된 모델 | 안정성 우선 환경 |\n\n#### Reranker 모델\n\n| 모델명 | 설명 | 권장 용도 |\n|--------|------|----------|\n| `rerank-multilingual-v3.0` | 최신 다국어 재정렬 모델 | **일반적 용도** (권장) |\n| `rerank-multilingual-v2.0` | 검증된 안정성의 재정렬 모델 | 안정성 우선 환경 |\n\n### 사용량 제한 및 비용\n\n- **무료 사용량**: 월 1,000회 API 호출\n- **지원 언어**: 한국어, 영어, 중국어, 일본어 등 100개 이상 언어\n- **비용 효율성**: 검색 품질 향상 대비 경제적인 솔루션\n\n참조:\n- [Cohere 모델 목록](https://docs.cohere.com/docs/rerank-2)\n- [Cohere 가격 정책](https://cohere.com/pricing)"
  },
  {
   "cell_type": "code",
   "execution_count": null,
   "id": "b03e9b15",
   "metadata": {},
   "outputs": [],
   "source": "# API KEY를 환경변수로 관리하기 위한 설정 파일\nfrom dotenv import load_dotenv\n\n# API KEY 정보 로드\nload_dotenv(override=True)"
  },
  {
   "cell_type": "code",
   "execution_count": null,
   "id": "f170a206",
   "metadata": {},
   "outputs": [],
   "source": "# LangSmith 추적을 설정합니다. https://smith.langchain.com\n# .env 파일에 LANGCHAIN_API_KEY 추가 필요\nfrom langchain_teddynote import logging\n\n# 프로젝트 이름을 입력합니다.\nlogging.langsmith(\"LangChain-Tutorial\")"
  },
  {
   "cell_type": "markdown",
   "id": "b146db95",
   "metadata": {},
   "source": "---\n\n# 기본 사용법\n\nCohere Reranker의 실제 활용 방법을 단계별로 학습합니다.\n\n## 유틸리티 함수 준비\n\n검색 결과를 명확하게 표시하기 위한 함수를 먼저 정의합니다."
  },
  {
   "cell_type": "code",
   "execution_count": null,
   "id": "efae0675",
   "metadata": {},
   "outputs": [],
   "source": "# 검색 결과를 보기 좋게 출력하는 유틸리티 함수\ndef pretty_print_docs(docs):\n    \"\"\"\n    문서 리스트를 보기 좋은 형태로 출력하는 함수\n    \n    Args:\n        docs: 검색된 문서 리스트\n    \n    Returns:\n        각 문서를 번호와 함께 구분선으로 나누어 표시\n    \"\"\"\n    print(\n        f\"\\n{'-' * 100}\\n\".join(\n            [f\"Document {i+1}:\\n\\n\" + d.page_content for i, d in enumerate(docs)]\n        )\n    )"
  },
  {
   "cell_type": "markdown",
   "id": "ae7d50e3",
   "metadata": {},
   "source": "## 벡터 저장소 및 기본 검색 시스템 구축\n\n### 모델 선택 가이드\n\n효과적인 검색 시스템을 위한 **Embedding 모델**과 **Reranker 모델**의 조합을 선택합니다.\n\n#### 권장 모델 조합\n\n| 우선순위 | Embedding 모델 | Reranker 모델 | 적용 시나리오 |\n|---------|---------------|---------------|--------------|\n| **최고 성능** | `embed-multilingual-v3.0` | `rerank-multilingual-v3.0` | 정확도가 가장 중요한 경우 |\n| **균형 잡힌 성능** | `embed-multilingual-light-v3.0` | `rerank-multilingual-v3.0` | 속도와 정확도의 균형이 필요한 경우 |\n| **안정성 우선** | `embed-multilingual-v2.0` | `rerank-multilingual-v2.0` | 검증된 안정성이 중요한 경우 |\n\n### 다국어 지원 범위\n\nCohere의 다국어 모델은 다음과 같은 언어들을 지원합니다:\n\n- **동아시아**: 한국어, 중국어, 일본어\n- **유럽**: 영어, 독일어, 프랑스어, 스페인어, 이탈리아어\n- **기타**: 100개 이상의 추가 언어\n\n이제 실제 구현을 시작하겠습니다."
  },
  {
   "cell_type": "code",
   "execution_count": null,
   "id": "b7a56ef1",
   "metadata": {},
   "outputs": [],
   "source": "# 필요한 라이브러리 import\nfrom langchain_community.document_loaders import TextLoader\nfrom langchain_community.vectorstores import FAISS\nfrom langchain_text_splitters import RecursiveCharacterTextSplitter\nfrom langchain_cohere import CohereEmbeddings\n\n# 1단계: 문서 로드 - 키워드 설명 파일 불러오기\ndocuments = TextLoader(\"./data/appendix-keywords.txt\").load()\n\n# 2단계: 텍스트 분할기 초기화\n# chunk_size=500: 각 조각을 500자로 제한\n# chunk_overlap=100: 조각 간 100자씩 겹치게 하여 문맥 유지\ntext_splitter = RecursiveCharacterTextSplitter(chunk_size=500, chunk_overlap=100)\n\n# 3단계: 문서를 작은 조각들로 분할\ntexts = text_splitter.split_documents(documents)\n\n# 4단계: FAISS 벡터 저장소 생성 및 검색기 설정\n# Cohere의 다국어 임베딩 모델 사용\n# k=10: 상위 10개 문서를 검색\nretriever = FAISS.from_documents(\n    texts, CohereEmbeddings(model=\"embed-multilingual-v3.0\")\n).as_retriever(search_kwargs={\"k\": 10})\n\n# 5단계: 테스트 질의문 작성\nquery = \"Word2Vec 에 대해서 알려줘!\"\n\n# 6단계: 기본 검색 실행 (Reranker 적용 전)\ndocs = retriever.invoke(query)\n\n# 7단계: 검색 결과 출력 - Reranker 적용 전 결과\nprint(\"기본 검색 결과 (Reranker 적용 전):\")\npretty_print_docs(docs)"
  },
  {
   "cell_type": "markdown",
   "id": "82084994",
   "metadata": {},
   "source": "---\n\n# Cohere Reranker 적용\n\n## 핵심 개념\n\n기본 검색 결과를 **Cohere의 AI 모델이 재정렬**하여 더 정확한 순서로 제공합니다.\n\n### 동작 원리 비교\n\n#### 기본 검색 (FAISS + Cohere Embeddings)\n\n```\n사용자 질문 → 벡터 변환 → 유사도 계산 → 상위 K개 선택\n```\n\n| 장점 | 단점 |\n|------|------|\n| 빠른 처리 속도 | 단순한 벡터 유사도만 고려 |\n| 대용량 문서 처리 가능 | 맥락적 관련성 제한적 |\n\n#### Reranker 적용 (CohereRerank)\n\n```\n기본 검색 결과 → AI 모델의 관련성 재평가 → 순서 재정렬\n```\n\n| 장점 | 단점 |\n|------|------|\n| 맥락과 의미적 관계 이해 | 추가 API 호출 필요 |\n| 높은 정확도 | 약간의 처리 시간 증가 |\n\n### ContextualCompressionRetriever 구조\n\n**ContextualCompressionRetriever**는 기본 검색기와 재정렬 모델을 연결하는 핵심 컴포넌트입니다.\n\n| 구성 요소 | 역할 | 설명 |\n|----------|------|------|\n| `base_retriever` | 1차 검색 수행 | FAISS 벡터 저장소에서 후보 문서 선별 |\n| `base_compressor` | 결과 최적화 | CohereRerank로 관련성 재평가 및 재정렬 |\n\n### 주요 고려사항\n\n- **모델 지정 필수**: CohereRerank 사용 시 반드시 `model` 매개변수 지정\n- **API 사용량**: 재정렬 과정에서 Cohere API 호출 발생 (월 1,000회 무료)\n- **성능 향상**: 일반적으로 20-30%의 검색 정확도 개선 효과\n\n이제 실제 구현을 통해 두 방식의 차이를 비교해보겠습니다."
  },
  {
   "cell_type": "code",
   "execution_count": null,
   "id": "3b6d3d95",
   "metadata": {},
   "outputs": [],
   "source": "# Cohere Reranker 사용을 위한 라이브러리 import\nfrom langchain.retrievers.contextual_compression import ContextualCompressionRetriever\nfrom langchain_cohere import CohereRerank\n\n# 1단계: Cohere Reranker 모델 설정\n# rerank-multilingual-v3.0: 최신 다국어 재정렬 모델 사용\ncompressor = CohereRerank(model=\"rerank-multilingual-v3.0\")\n\n# 2단계: 문맥 압축 검색기 설정\n# 기본 검색기(retriever)와 재정렬 모델(compressor)을 결합\ncompression_retriever = ContextualCompressionRetriever(\n    base_compressor=compressor,  # 재정렬을 담당하는 Cohere 모델\n    base_retriever=retriever     # 기본 FAISS 검색기\n)\n\n# 3단계: 같은 질의문으로 재정렬된 검색 수행\n# 이번에는 Cohere Reranker가 결과를 재정렬합니다\ncompressed_docs = compression_retriever.invoke(\"Word2Vec 에 대해서 알려줘!\")\n\n# 4단계: 재정렬된 검색 결과 출력\nprint(\"Cohere Reranker 적용 후 결과:\")\npretty_print_docs(compressed_docs)"
  },
  {
   "cell_type": "markdown",
   "execution_count": null,
   "id": "4a5457ba",
   "metadata": {},
   "outputs": [],
   "source": "---\n\n# 결과 분석 및 비교\n\n## 검색 성능 개선 효과\n\n위의 두 검색 결과를 비교하면 **Cohere Reranker의 실질적인 개선 효과**를 확인할 수 있습니다.\n\n### 주요 개선 영역\n\n| 개선 영역 | 기본 검색 | Reranker 적용 | 개선 효과 |\n|----------|----------|---------------|----------|\n| **관련성 정확도** | 키워드 기반 단순 매칭 | 의미적 맥락 고려 | 20-30% 향상 |\n| **결과 순서** | 벡터 유사도순 정렬 | 질의 의도 기반 재정렬 | 사용자 만족도 향상 |\n| **노이즈 제거** | 관련 없는 문서 포함 | 부적절한 문서 하위 배치 | 검색 품질 개선 |\n\n### 사용자 경험 향상\n\n- **즉시성**: 첫 번째 결과에서 원하는 정보를 찾을 확률 증가\n- **효율성**: 불필요한 문서 탐색 시간 단축\n- **정확성**: 질의 의도와 부합하는 결과 우선 제공\n\n## 실무 적용 가이드\n\n### Reranker 적용 권장 시나리오\n\n| 시나리오 | 적용 여부 | 이유 |\n|---------|----------|------|\n| **전문 분야 문서 검색** | ✅ 권장 | 정확한 정보 전달이 중요한 의료, 법률, 기술 문서 |\n| **질의응답 시스템** | ✅ 권장 | 사용자 질문에 대한 정확한 답변 제공이 필수 |\n| **다국어 검색** | ✅ 권장 | Cohere의 다국어 처리 성능이 우수 |\n| **대용량 실시간 처리** | ⚠️ 주의 | API 호출 지연 및 사용량 제한 고려 필요 |\n| **속도 최우선 시스템** | ❌ 비권장 | 추가 처리 시간으로 인한 지연 발생 |\n\n### 성능 최적화 방법\n\n#### 검색 매개변수 조정\n\n| 매개변수 | 기본값 | 권장 설정 | 효과 |\n|---------|-------|----------|------|\n| `k` (검색 문서 수) | 10 | 15-20 | 더 많은 후보에서 재정렬 |\n| `chunk_size` | 500 | 300-800 | 문서 특성에 따른 최적화 |\n| `chunk_overlap` | 100 | 50-150 | 문맥 연속성 보장 |\n\n#### 비용 효율성 향상\n\n1. **캐싱 전략**: 동일한 질의에 대한 결과 재사용\n2. **선별적 적용**: 중요한 질의에만 Reranker 사용\n3. **하이브리드 접근**: 기본 검색과 Reranker를 상황별로 선택\n\n## 마무리\n\n**Cohere Reranker**는 기존 검색 시스템의 품질을 크게 향상시킬 수 있는 효과적인 도구입니다.\n\n### 핵심 장점\n\n- **간편한 통합**: 기존 LangChain 파이프라인에 쉽게 추가 가능\n- **즉각적인 효과**: 적용 즉시 검색 결과 개선 확인\n- **다국어 지원**: 한국어를 포함한 광범위한 언어 지원\n- **비용 효율성**: 월 1,000회 무료 사용량으로 충분한 테스트 가능\n\n### 권장 활용 방안\n\n1. **프로토타입 단계**: 무료 사용량으로 효과 검증\n2. **단계적 도입**: 중요한 검색부터 점진적 적용\n3. **성능 모니터링**: 검색 품질 지표를 통한 지속적 개선\n\n다음 프로젝트에서 Cohere Reranker를 활용하여 더 정확하고 사용자 친화적인 검색 시스템을 구축해보시기 바랍니다.\n\n참조:\n- [Cohere Rerank 성능 벤치마크](https://docs.cohere.com/docs/rerank-2#performance)\n- [LangChain ContextualCompressionRetriever 문서](https://python.langchain.com/docs/modules/data_connection/retrievers/contextual_compression/)"
  }
 ],
 "metadata": {
  "kernelspec": {
   "display_name": "langchain-kr-lwwSZlnu-py3.11",
   "language": "python",
   "name": "python3"
  },
  "language_info": {
   "codemirror_mode": {
    "name": "ipython",
    "version": 3
   },
   "file_extension": ".py",
   "mimetype": "text/x-python",
   "name": "python",
   "nbconvert_exporter": "python",
   "pygments_lexer": "ipython3",
   "version": "3.11.9"
  }
 },
 "nbformat": 4,
 "nbformat_minor": 5
}