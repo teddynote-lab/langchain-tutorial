{
 "cells": [
  {
   "cell_type": "markdown",
   "id": "6e8b2a6f",
   "metadata": {},
   "source": "# 🔄 Cohere Reranker로 검색 결과 품질 향상하기\n\n## 📚 개요\n\n**Cohere Reranker**는 검색 결과를 **더 정확하고 관련성 높게 재정렬**해주는 똑똑한 도구입니다! 🎯\n\n### 🏪 온라인 쇼핑몰로 이해하기\n\n온라인 쇼핑에서 \"블루투스 이어폰\"을 검색했다고 생각해보세요:\n\n#### 🔍 **일반적인 검색 결과** (기본 Retriever)\n```\n1. 블루투스 스피커 📻\n2. 유선 이어폰 🎧  \n3. 블루투스 이어폰 🎵 ← 원하는 상품!\n4. 헤드폰 🎧\n5. 이어폰 케이스 📦\n```\n\n#### ⚡ **Reranker 적용 후**\n```\n1. 블루투스 이어폰 🎵 ← 가장 관련성 높은 결과가 맨 위로!\n2. 무선 이어폰 🎵\n3. 에어�팟 유형 이어폰 🎵\n4. 블루투스 헤드폰 🎧\n5. 블루투스 스피커 📻\n```\n\n### 🎯 Cohere Reranker의 핵심 가치\n\n✅ **정확성 향상**: 진짜 원하는 정보를 맨 위에 배치  \n✅ **맥락 이해**: 단순한 키워드 매칭을 넘어선 의미 파악  \n✅ **다국어 지원**: 한국어, 영어 등 여러 언어 지원  \n✅ **간편한 통합**: LangChain과 완벽하게 호환\n\n### 📋 목차\n\n1. **🛠️ 환경 설정**\n   - Cohere API 키 설정\n   - 필요한 라이브러리 import\n\n2. **🎓 기본 사용법**\n   - 문서 로드 및 벡터 저장소 구축\n   - 기본 검색 테스트\n\n3. **⚡ Reranker 적용**\n   - CohereRerank 설정\n   - ContextualCompressionRetriever와 결합\n   - 성능 비교 및 결과 분석\n\n### 💡 Cohere란?\n\n**Cohere**는 기업이 인간-기계 상호작용을 개선할 수 있도록 돕는 자연어 처리 모델을 제공하는 캐나다의 AI 스타트업입니다.\n\n- **🌟 특징**: 강력한 다국어 지원과 높은 성능\n- **🔗 공식 문서**: [Cohere Rerank API](https://docs.cohere.com/docs/reranking)\n- **🏆 장점**: 검색 품질을 획기적으로 개선\n\n이제 실제 예제를 통해 Cohere Reranker의 강력한 성능을 체험해봅시다! 🚀"
  },
  {
   "cell_type": "code",
   "execution_count": null,
   "id": "59e4104c",
   "metadata": {},
   "outputs": [],
   "source": [
    "# 설치\n",
    "# !pip install -qU cohere"
   ]
  },
  {
   "cell_type": "markdown",
   "id": "68f6dcf4",
   "metadata": {},
   "source": "---\n\n# 🛠️ 환경 설정\n\n## 🔑 Cohere API 키 설정\n\nCohere Reranker를 사용하려면 **무료 API 키**가 필요합니다!\n\n### 📋 API 키 발급 단계\n\n1. **🌐 Cohere 대시보드 방문**: [API 키 발급 페이지](https://dashboard.cohere.com/api-keys)\n2. **📝 계정 생성 또는 로그인**\n3. **🔑 새 API 키 생성**\n4. **📋 API 키 복사**\n\n### 💾 환경 변수 설정\n\n`.env` 파일에 다음과 같이 API 키를 설정해주세요:\n\n```bash\nCOHERE_API_KEY=your_api_key_here\n```\n\n### 📚 유용한 참고 자료\n\n- 📖 **[공식 문서](https://docs.cohere.com/docs/the-cohere-platform)**: Cohere 플랫폼 전반적인 가이드\n- 🤖 **[Reranker 모델 목록](https://docs.cohere.com/docs/rerank-2)**: 사용 가능한 모델들과 성능 비교\n- 🌍 **다국어 지원**: `rerank-multilingual-v3.0`, `rerank-multilingual-v2.0` 등\n\n### 💡 팁\n\n> 🆓 **무료 사용량**: Cohere는 한 달에 **1,000회 무료 호출**을 제공합니다!  \n> 💰 **비용 효율적**: 검색 품질 향상 대비 매우 경제적인 솔루션입니다."
  },
  {
   "cell_type": "code",
   "execution_count": null,
   "id": "b03e9b15",
   "metadata": {},
   "outputs": [],
   "source": "# API KEY를 환경변수로 관리하기 위한 설정 파일\nfrom dotenv import load_dotenv\n\n# API KEY 정보로드\nload_dotenv(override=True)"
  },
  {
   "cell_type": "code",
   "execution_count": null,
   "id": "f170a206",
   "metadata": {},
   "outputs": [],
   "source": "# LangSmith 추적을 설정합니다. https://smith.langchain.com\nfrom langchain_teddynote import logging\n\n# 프로젝트 이름을 입력합니다.\nlogging.langsmith(\"LangChain-Tutorial\")"
  },
  {
   "cell_type": "markdown",
   "id": "b146db95",
   "metadata": {},
   "source": "---\n\n# 🎓 기본 사용법\n\n이제 실제로 Cohere Reranker를 사용해보겠습니다!\n\n## 🧰 작업 준비\n\n먼저 문서 출력을 위한 유틸리티 함수를 만들어보겠습니다. 이 함수는 검색 결과를 **깔끔하게 보여주는 역할**을 합니다."
  },
  {
   "cell_type": "code",
   "execution_count": null,
   "id": "efae0675",
   "metadata": {},
   "outputs": [],
   "source": "# 검색 결과를 보기 좋게 출력하는 유틸리티 함수\ndef pretty_print_docs(docs):\n    \"\"\"\n    문서 리스트를 보기 좋은 형태로 출력하는 함수\n    각 문서를 번호와 함께 구분선으로 나누어 표시\n    \"\"\"\n    # 문서들을 번호와 함께 구분선으로 나누어 출력\n    print(\n        f\"\\n{'-' * 100}\\n\".join(\n            [f\"Document {i+1}:\\n\\n\" + d.page_content for i, d in enumerate(docs)]\n        )\n    )"
  },
  {
   "cell_type": "markdown",
   "id": "ae7d50e3",
   "metadata": {},
   "source": "## 🌍 Cohere 다국어 지원 모델\n\nCohere의 **큰 장점 중 하나는 강력한 다국어 지원**입니다! 특히 한국어도 매우 잘 처리합니다. 🇰🇷\n\n### 🎯 추천 모델 조합\n\n#### **📊 Embedding 모델** (벡터 변환용)\n- **`embed-multilingual-v3.0`** ⭐ **추천!**: 최신 모델, 성능 우수\n- **`embed-multilingual-light-v3.0`**: 빠른 처리 속도가 필요할 때\n- **`embed-multilingual-v2.0`**: 안정성을 원할 때\n\n#### **🔄 Reranker 모델** (재정렬용)\n- **`rerank-multilingual-v3.0`** ⭐ **추천!**: 최신 재정렬 모델\n- **`rerank-multilingual-v2.0`**: 검증된 안정성\n\n### 💡 모델 선택 가이드\n\n```\n🚀 최고 성능이 필요하다면:\n   Embedding: embed-multilingual-v3.0\n   Reranker: rerank-multilingual-v3.0\n\n⚡ 속도가 중요하다면:\n   Embedding: embed-multilingual-light-v3.0  \n   Reranker: rerank-multilingual-v3.0\n\n🛡️ 안정성을 우선한다면:\n   Embedding: embed-multilingual-v2.0\n   Reranker: rerank-multilingual-v2.0\n```\n\n### 🌐 지원 언어\n\n한국어, 영어, 중국어, 일본어, 독일어, 프랑스어, 스페인어 등 **100개 이상의 언어**를 지원합니다!"
  },
  {
   "cell_type": "code",
   "execution_count": null,
   "id": "b7a56ef1",
   "metadata": {},
   "outputs": [],
   "source": "# 필요한 라이브러리 import\nfrom langchain_community.document_loaders import TextLoader  # 텍스트 파일 로더\nfrom langchain_community.vectorstores import FAISS  # 벡터 저장소\nfrom langchain_text_splitters import RecursiveCharacterTextSplitter  # 텍스트 분할기\nfrom langchain_cohere import CohereEmbeddings  # Cohere 임베딩 모델\n\n# 1단계: 문서 로드 - 키워드 설명 파일 불러오기\ndocuments = TextLoader(\"./data/appendix-keywords.txt\").load()\n\n# 2단계: 텍스트 분할기 초기화\n# chunk_size=500: 각 조각을 500자로 제한\n# chunk_overlap=100: 조각 간 100자씩 겹치게 하여 문맥 유지\ntext_splitter = RecursiveCharacterTextSplitter(chunk_size=500, chunk_overlap=100)\n\n# 3단계: 문서를 작은 조각들로 분할\ntexts = text_splitter.split_documents(documents)\n\n# 4단계: FAISS 벡터 저장소 생성 및 검색기 설정\n# Cohere의 다국어 임베딩 모델 사용\n# k=10: 상위 10개 문서를 검색\nretriever = FAISS.from_documents(\n    texts, CohereEmbeddings(model=\"embed-multilingual-v3.0\")\n).as_retriever(search_kwargs={\"k\": 10})\n\n# 5단계: 테스트 질의문 작성\nquery = \"Word2Vec 에 대해서 알려줘!\"\n\n# 6단계: 기본 검색 실행 (Reranker 적용 전)\ndocs = retriever.invoke(query)\n\n# 7단계: 검색 결과 출력 - Reranker 적용 전 결과\nprint(\"🔍 기본 검색 결과 (Reranker 적용 전):\")\npretty_print_docs(docs)"
  },
  {
   "cell_type": "markdown",
   "id": "82084994",
   "metadata": {},
   "source": "---\n\n# ⚡ Cohere Reranker 적용\n\n## 🎯 핵심 아이디어\n\n기본 검색 결과를 **Cohere의 똑똑한 AI가 재정렬**해서 더 정확한 결과를 만듭니다!\n\n### 📊 작동 원리\n\n#### 1️⃣ **기본 검색** (FAISS + Cohere Embeddings)\n```\n사용자 질문 → 벡터 변환 → 유사도 계산 → 상위 10개 선택\n```\n- **장점**: 빠른 속도\n- **단점**: 단순한 벡터 유사도만 고려\n\n#### 2️⃣ **Reranker 적용** (CohereRerank)\n```\n기본 검색 결과 → AI가 질문과의 관련성 재평가 → 순서 재정렬\n```\n- **장점**: 맥락과 의미까지 깊이 이해\n- **단점**: 약간의 추가 시간 소요\n\n### 🔧 ContextualCompressionRetriever\n\n**ContextualCompressionRetriever**는 **기본 검색기와 재정렬 모델을 연결하는 다리** 역할을 합니다!\n\n- **`base_retriever`**: 1차 검색을 담당 (FAISS)\n- **`base_compressor`**: 결과를 개선 (CohereRerank)\n\n### ⚠️ 중요 포인트\n\n- **모델 이름 필수**: CohereRerank 사용 시 반드시 `model` 파라미터 지정\n- **API 호출**: Reranker 사용 시 Cohere API 호출 발생 (무료 한도 1,000회/월)\n- **성능 개선**: 일반적으로 20-30% 정확도 향상 효과\n\n이제 실제로 두 방식의 차이점을 비교해봅시다! 🚀"
  },
  {
   "cell_type": "code",
   "execution_count": null,
   "id": "3b6d3d95",
   "metadata": {},
   "outputs": [],
   "source": "# Cohere Reranker 사용을 위한 라이브러리 import\nfrom langchain.retrievers.contextual_compression import ContextualCompressionRetriever  # 압축 검색기\nfrom langchain_cohere import CohereRerank  # Cohere 재정렬 모델\n\n# 1단계: Cohere Reranker 모델 설정\n# rerank-multilingual-v3.0: 최신 다국어 재정렬 모델 사용\ncompressor = CohereRerank(model=\"rerank-multilingual-v3.0\")\n\n# 2단계: 문맥 압축 검색기 설정\n# 기본 검색기(retriever)와 재정렬 모델(compressor)을 결합\ncompression_retriever = ContextualCompressionRetriever(\n    base_compressor=compressor,  # 재정렬을 담당하는 Cohere 모델\n    base_retriever=retriever     # 기본 FAISS 검색기\n)\n\n# 3단계: 같은 질의문으로 재정렬된 검색 수행\n# 이번에는 Cohere Reranker가 결과를 재정렬합니다\ncompressed_docs = compression_retriever.invoke(\"Word2Vec 에 대해서 알려줘!\")\n\n# 4단계: 재정렬된 검색 결과 출력\nprint(\"⚡ Cohere Reranker 적용 후 결과:\")\npretty_print_docs(compressed_docs)"
  },
  {
   "cell_type": "markdown",
   "execution_count": null,
   "id": "4a5457ba",
   "metadata": {},
   "outputs": [],
   "source": "---\n\n# 📊 결과 분석 및 비교\n\n## 🔍 검색 결과 차이점 비교\n\n위의 두 결과를 비교해보면 **Cohere Reranker의 효과**를 명확히 확인할 수 있습니다!\n\n### 📈 개선 효과\n\n#### ✅ **관련성 향상**\n- **기본 검색**: 키워드 매칭 위주의 단순한 결과\n- **Reranker 적용**: 질문의 의도와 맥락을 고려한 정교한 결과\n\n#### ✅ **정확도 개선**\n- 질문과 **더 관련성 높은 문서**가 상위에 배치\n- **노이즈 문서들**이 하위로 이동하거나 제거\n\n#### ✅ **사용자 경험 향상**\n- 첫 번째 결과만 봐도 **원하는 답변**을 찾을 가능성 증가\n- 불필요한 문서 탐색 시간 단축\n\n## 💡 활용 팁\n\n### 🎯 언제 Reranker를 사용할까?\n\n**✅ 추천하는 상황:**\n- **정확성이 중요한 QA 시스템**\n- **전문 분야 문서 검색** (의료, 법률, 기술 등)\n- **다국어 검색**이 필요할 때\n- **사용자 만족도**를 높이고 싶을 때\n\n**⚠️ 주의할 상황:**\n- **응답 속도**가 절대적으로 중요할 때\n- **대용량 실시간 처리**가 필요할 때 (API 한도 고려)\n- **비용 최적화**가 우선일 때\n\n### 🚀 성능 최적화 방법\n\n1. **기본 검색 개수 조절**: `k=10` → `k=20` (더 많은 후보 중에서 재정렬)\n2. **하이브리드 사용**: 중요한 쿼리만 Reranker 적용\n3. **캐싱 활용**: 동일한 쿼리의 경우 결과 재사용\n\n## 🎉 마무리\n\n**Cohere Reranker**는 **검색 품질을 한 단계 높여주는 강력한 도구**입니다! \n\n- 🎯 **간편한 적용**: 몇 줄의 코드로 검색 품질 개선\n- 🌍 **다국어 지원**: 한국어를 포함한 100개 이상 언어 지원  \n- 💰 **비용 효율적**: 월 1,000회 무료 사용량 제공\n- ⚡ **즉시 효과**: 적용 즉시 검색 결과 개선 확인 가능\n\n다음 프로젝트에서 Cohere Reranker를 활용하여 더 똑똑한 검색 시스템을 만들어보세요! 🚀"
  }
 ],
 "metadata": {
  "kernelspec": {
   "display_name": "langchain-kr-lwwSZlnu-py3.11",
   "language": "python",
   "name": "python3"
  },
  "language_info": {
   "codemirror_mode": {
    "name": "ipython",
    "version": 3
   },
   "file_extension": ".py",
   "mimetype": "text/x-python",
   "name": "python",
   "nbconvert_exporter": "python",
   "pygments_lexer": "ipython3",
   "version": "3.11.9"
  }
 },
 "nbformat": 4,
 "nbformat_minor": 5
}