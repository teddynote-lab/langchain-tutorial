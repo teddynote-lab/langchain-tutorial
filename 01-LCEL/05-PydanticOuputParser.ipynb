{
 "cells": [
  {
   "cell_type": "markdown",
   "metadata": {},
   "source": "# PydanticOutputParser 가이드\n\n## 개요\n\n**PydanticOutputParser**는 언어 모델의 자유 형식 텍스트 출력을 구조화된 데이터 객체로 변환하는 도구입니다. 이 클래스를 사용하면 AI 모델의 응답을 일관된 형식으로 파싱하고 검증할 수 있습니다.\n\n## PydanticOutputParser의 핵심 구성 요소\n\n### 필수 메서드\n\n| 메서드 | 기능 | 역할 |\n|--------|------|------|\n| **get_format_instructions()** | 형식 지침 생성 | AI 모델에게 원하는 출력 형식을 지시 |\n| **parse()** | 텍스트 파싱 | 문자열을 Pydantic 모델 객체로 변환 |\n\n### 작동 원리\n\nPydanticOutputParser는 다음과 같은 워크플로우로 동작합니다:\n\n1. **형식 지침 제공**: `get_format_instructions()`로 AI에게 JSON 스키마 기반 출력 형식 전달\n2. **AI 응답 생성**: 언어 모델이 지침에 따라 구조화된 텍스트 생성  \n3. **데이터 변환**: `parse()` 메서드로 텍스트를 Pydantic 객체로 변환\n4. **타입 검증**: Pydantic을 통한 데이터 타입 및 형식 검증\n\n## 기술적 요구사항\n\n### 필수 패키지\n\n- **langchain-core**: OutputParser 기본 클래스\n- **pydantic**: 데이터 모델 정의 및 검증\n- **langchain-openai**: 언어 모델 인터페이스\n\n### Pydantic 모델 설계 원칙\n\n- **Field 설명**: 각 필드에 명확한 `description` 제공\n- **타입 안전성**: 적절한 Python 타입 힌트 사용\n- **검증 규칙**: 필요시 Pydantic 검증 규칙 적용\n\n## 활용 사례\n\n- **이메일 파싱**: 발신자, 제목, 내용 등 구조화된 정보 추출\n- **문서 요약**: 주요 내용을 정해진 형식으로 요약\n- **데이터 추출**: 비정형 텍스트에서 특정 정보 추출\n\n## 참고 자료\n\n- [Pydantic 공식 문서](https://docs.pydantic.dev/latest/)\n- [LangChain OutputParsers](https://python.langchain.com/docs/modules/model_io/output_parsers/)"
  },
  {
   "cell_type": "code",
   "execution_count": null,
   "metadata": {},
   "outputs": [],
   "source": [
    "# API KEY를 환경변수로 관리하기 위한 설정 파일\n",
    "from dotenv import load_dotenv\n",
    "\n",
    "# API KEY 정보로드\n",
    "load_dotenv(override=True)"
   ]
  },
  {
   "cell_type": "code",
   "execution_count": null,
   "metadata": {},
   "outputs": [],
   "source": [
    "# LangSmith 추적을 설정합니다. https://smith.langchain.com\n",
    "# !pip install langchain-teddynote\n",
    "from langchain_teddynote import logging\n",
    "\n",
    "# 프로젝트 이름을 입력합니다.\n",
    "logging.langsmith(\"LangChain-Tutorial\")"
   ]
  },
  {
   "cell_type": "code",
   "execution_count": null,
   "metadata": {},
   "outputs": [],
   "source": [
    "# 실시간 출력을 위한 import (스트리밍 응답을 보기 좋게 출력)\n",
    "from langchain_teddynote.messages import stream_response"
   ]
  },
  {
   "cell_type": "code",
   "execution_count": null,
   "metadata": {},
   "outputs": [],
   "source": "# 필요한 라이브러리 임포트\nimport os\nfrom langchain_openai import ChatOpenAI\nfrom langchain_core.output_parsers import PydanticOutputParser\nfrom pydantic import BaseModel, Field\n\n# ChatOpenAI 모델 초기화\nllm = ChatOpenAI(\n    temperature=0.1,\n    model_name=\"openai/gpt-4.1\",\n    api_key=os.getenv(\"OPENROUTER_API_KEY\"),\n    base_url=os.getenv(\"OPENROUTER_BASE_URL\"),\n)"
  },
  {
   "cell_type": "markdown",
   "metadata": {},
   "source": "---\n\n## 실습 데이터 준비\n\n### 시나리오 설정\n\n비즈니스 협력 제안 이메일을 분석하여 다음 정보를 자동으로 추출하는 시스템을 구현합니다.\n\n#### 추출 대상 정보\n\n| 항목 | 설명 |\n|------|------|\n| **발신자 정보** | 이름 및 이메일 주소 |\n| **이메일 제목** | 메일 제목 전체 |\n| **내용 요약** | 메일 본문의 핵심 내용 |\n| **미팅 일정** | 본문에 언급된 날짜 및 시간 |\n\n### 실무 활용 가능성\n\n이러한 자동화 시스템은 다음과 같은 상황에서 유용합니다:\n\n- **대량 이메일 처리**: 일일 수십~수백 건의 비즈니스 이메일 자동 분류\n- **CRM 시스템 연동**: 추출된 정보를 고객 관리 시스템에 자동 입력\n- **업무 효율성 향상**: 수동 분류 작업 시간 단축"
  },
  {
   "cell_type": "code",
   "execution_count": null,
   "metadata": {},
   "outputs": [],
   "source": [
    "# 실습용 이메일 데이터 (비즈니스 협력 제안 메일 예시)\n",
    "email_conversation = \"\"\"From: 김철수 (chulsoo.kim@bikecorporation.me)\n",
    "To: 이은채 (eunchae@teddyinternational.me)\n",
    "Subject: \"ZENESIS\" 자전거 유통 협력 및 미팅 일정 제안\n",
    "\n",
    "안녕하세요, 이은채 대리님,\n",
    "\n",
    "저는 바이크코퍼레이션의 김철수 상무입니다. 최근 보도자료를 통해 귀사의 신규 자전거 \"ZENESIS\"에 대해 알게 되었습니다. 바이크코퍼레이션은 자전거 제조 및 유통 분야에서 혁신과 품질을 선도하는 기업으로, 이 분야에서의 장기적인 경험과 전문성을 가지고 있습니다.\n",
    "\n",
    "ZENESIS 모델에 대한 상세한 브로슈어를 요청드립니다. 특히 기술 사양, 배터리 성능, 그리고 디자인 측면에 대한 정보가 필요합니다. 이를 통해 저희가 제안할 유통 전략과 마케팅 계획을 보다 구체화할 수 있을 것입니다.\n",
    "\n",
    "또한, 협력 가능성을 더 깊이 논의하기 위해 다음 주 화요일(1월 15일) 오전 10시에 미팅을 제안합니다. 귀사 사무실에서 만나 이야기를 나눌 수 있을까요?\n",
    "\n",
    "감사합니다.\n",
    "\n",
    "김철수\n",
    "상무이사\n",
    "바이크코퍼레이션\n",
    "\"\"\""
   ]
  },
  {
   "cell_type": "markdown",
   "metadata": {},
   "source": "---\n\n## 파서 사용 전후 비교\n\n### 기본 AI 응답의 한계\n\nPydanticOutputParser를 사용하지 않은 경우의 문제점을 확인해봅니다.\n\n#### 구조화되지 않은 응답의 특징\n\n- **자연어 형태**: 사람이 읽기 쉽지만 프로그램 처리가 어려움\n- **일관성 부족**: 매번 다른 형식으로 응답 생성\n- **데이터 추출 어려움**: 특정 정보를 프로그래밍적으로 접근하기 복잡\n\n### 실험 목적\n\n동일한 이메일 데이터에 대해 다음 두 방식의 결과를 비교합니다:\n\n1. **기본 프롬프트**: 파서 없이 자연어 응답\n2. **구조화된 파싱**: PydanticOutputParser 적용"
  },
  {
   "cell_type": "code",
   "execution_count": null,
   "metadata": {},
   "outputs": [],
   "source": "# 출력 파서 없이 기본 체인 구성\nfrom langchain_core.prompts import PromptTemplate\n\n# 프롬프트 템플릿 정의\nprompt = PromptTemplate.from_template(\n    \"다음의 이메일 내용중 중요한 내용을 추출해 주세요.\\\\n\\\\n{email_conversation}\"\n)\n\n# ChatOpenAI 모델 초기화\nllm = ChatOpenAI(\n    temperature=0.1,\n    model_name=\"openai/gpt-4.1\",\n    api_key=os.getenv(\"OPENROUTER_API_KEY\"),\n    base_url=os.getenv(\"OPENROUTER_BASE_URL\"),\n)\n\n# 체인 구성 (프롬프트 + 모델)\nchain = prompt | llm\n\n# 체인 실행 (스트리밍 방식)\nanswer = chain.stream({\"email_conversation\": email_conversation})\n\n# 실시간 출력 및 결과 반환\noutput = stream_response(answer, return_output=True)"
  },
  {
   "cell_type": "code",
   "execution_count": null,
   "metadata": {},
   "outputs": [],
   "source": [
    "# 파서 없이 실행한 결과 출력 (구조화되지 않은 텍스트 형태)\n",
    "print(output)"
   ]
  },
  {
   "cell_type": "markdown",
   "metadata": {},
   "source": "### 결과 분석\n\n파서 없이 실행된 결과는 자연어 형태로 제공되어 사람이 읽기에는 적합하지만, 프로그램이 데이터를 구조적으로 처리하기에는 부적합합니다.\n\n---\n\n## Pydantic 모델 설계\n\n### EmailSummary 모델 구조\n\n이메일 정보를 체계적으로 구조화하기 위한 데이터 모델을 정의합니다.\n\n#### 모델 설계 원칙\n\n| 구성 요소 | 목적 | 중요성 |\n|----------|------|--------|\n| **Field 타입** | 데이터 타입 명시 | 타입 안전성 보장 |\n| **Description** | AI 지침 제공 | 정확한 정보 추출을 위한 가이드 |\n| **Validation** | 데이터 검증 | 입력값의 유효성 검사 |\n\n#### Field Description 작성 지침\n\n`Field` 의 `description` 매개변수는 AI 모델에게 전달되는 명령어 역할을 수행합니다:\n\n- **명확성**: 추출해야 할 정보의 범위를 구체적으로 명시\n- **일관성**: 동일한 유형의 정보는 항상 같은 방식으로 추출\n- **정확성**: 원하는 데이터 형식과 내용을 정확히 설명\n\n#### 모델 활용 시 고려사항\n\n- **확장성**: 필요에 따라 필드 추가/수정 용이\n- **재사용성**: 유사한 이메일 처리 작업에서 재활용 가능\n- **유지보수**: 비즈니스 요구사항 변경 시 모델 수정을 통한 대응"
  },
  {
   "cell_type": "code",
   "execution_count": null,
   "metadata": {},
   "outputs": [],
   "source": [
    "# 이메일 정보를 구조화하기 위한 Pydantic 모델 정의\n",
    "class EmailSummary(BaseModel):\n",
    "    person: str = Field(description=\"메일을 보낸 사람\")\n",
    "    email: str = Field(description=\"메일을 보낸 사람의 이메일 주소\")\n",
    "    subject: str = Field(description=\"메일 제목\")\n",
    "    summary: str = Field(description=\"메일 본문을 요약한 텍스트\")\n",
    "    date: str = Field(description=\"메일 본문에 언급된 미팅 날짜와 시간\")\n",
    "\n",
    "\n",
    "# PydanticOutputParser 인스턴스 생성 (EmailSummary 모델 기반)\n",
    "parser = PydanticOutputParser(pydantic_object=EmailSummary)"
   ]
  },
  {
   "cell_type": "code",
   "execution_count": null,
   "metadata": {},
   "outputs": [],
   "source": [
    "# AI 모델에게 전달할 형식 지침 확인 (JSON 스키마 형태로 생성됨)\n",
    "print(parser.get_format_instructions())"
   ]
  },
  {
   "cell_type": "markdown",
   "metadata": {},
   "source": "### Format Instructions 분석\n\n`get_format_instructions()` 메서드가 생성하는 지침은 AI 모델에게 전달되는 상세한 작업 명세서입니다.\n\n#### 생성되는 지침의 구성 요소\n\n| 항목 | 내용 | 목적 |\n|------|------|------|\n| **JSON 스키마** | 출력해야 할 데이터 구조 명시 | 정확한 형식 지정 |\n| **필드 설명** | 각 필드별 추출해야 할 정보 안내 | 내용 정확성 향상 |\n| **형식 규칙** | JSON 문법 준수 사항 | 파싱 오류 방지 |\n\n---\n\n## 프롬프트 템플릿 구성\n\n### 템플릿 설계 원칙\n\n효과적인 구조화된 출력을 위한 프롬프트 템플릿 구성 요소입니다.\n\n#### 주요 구성 요소\n\n| 요소 | 역할 | 필수 여부 |\n|------|------|-----------|\n| **question** | 사용자의 구체적 요청 | 필수 |\n| **email_conversation** | 분석 대상 텍스트 | 필수 |\n| **format** | 출력 형식 지침 | 필수 |\n\n#### partial() 함수의 활용\n\n`partial()` 함수는 템플릿의 일부 변수를 미리 설정하는 기능입니다:\n\n**사용 전**:\n```python\n{question}, {email_conversation}, {format}\n```\n\n**partial 적용 후**:\n```python\n{question}, {email_conversation}, [format 지침 자동 삽입]\n```\n\n이를 통해 실행 시점에 question과 email_conversation만 제공하면 됩니다."
  },
  {
   "cell_type": "code",
   "execution_count": null,
   "metadata": {},
   "outputs": [],
   "source": [
    "# 구조화된 출력을 위한 프롬프트 템플릿 정의\n",
    "prompt = PromptTemplate.from_template(\n",
    "    \"\"\"You are a helpful assistant. Please answer the following questions in KOREAN.\n",
    "\n",
    "QUESTION:\n",
    "{question}\n",
    "\n",
    "EMAIL CONVERSATION:\n",
    "{email_conversation}\n",
    "\n",
    "FORMAT:\n",
    "{format}\n",
    "\"\"\"\n",
    ")\n",
    "\n",
    "# 프롬프트에 파서의 형식 지침을 부분적으로 적용 (미리 format 필드를 채워놓음)\n",
    "prompt = prompt.partial(format=parser.get_format_instructions())"
   ]
  },
  {
   "cell_type": "code",
   "execution_count": null,
   "metadata": {},
   "outputs": [],
   "source": [
    "print(parser.get_format_instructions())"
   ]
  },
  {
   "cell_type": "markdown",
   "metadata": {},
   "source": "---\n\n## 체인 구성\n\n### LangChain 파이프라인 구조\n\nLangChain의 파이프라인 연산자(`|`)를 사용하여 처리 단계를 연결합니다.\n\n#### 기본 체인 구조\n\n```python\nchain = prompt | llm\n```\n\n#### 처리 흐름\n\n| 단계 | 입력 | 출력 | 역할 |\n|------|------|------|------|\n| **1. 프롬프트** | 사용자 입력 + 템플릿 | 완성된 프롬프트 | 지시사항 생성 |\n| **2. LLM** | 완성된 프롬프트 | AI 응답 텍스트 | 내용 생성 |\n\n### 체인 설계의 장점\n\n#### 모듈성\n- **독립적 구성 요소**: 각 단계를 별도로 수정/교체 가능\n- **재사용성**: 동일한 체인을 여러 작업에 활용\n- **테스트 용이성**: 각 단계별로 독립적 테스트 가능\n\n#### 확장성  \n- **단계 추가**: 필요시 추가 처리 단계 삽입\n- **병렬 처리**: 여러 체인을 동시 실행\n- **조건부 실행**: 상황에 따른 다른 처리 경로 설정"
  },
  {
   "cell_type": "code",
   "execution_count": null,
   "metadata": {},
   "outputs": [],
   "source": [
    "# 프롬프트와 모델을 연결한 체인 생성 (파서는 별도로 적용 예정)\n",
    "chain = prompt | llm"
   ]
  },
  {
   "cell_type": "markdown",
   "metadata": {},
   "source": "---\n\n## 체인 실행 및 결과 분석\n\n### 실행 결과의 특성\n\n체인 실행 후 얻는 결과는 여전히 텍스트 형태입니다.\n\n#### 중간 결과물의 특징\n\n- **JSON 유사 형태**: AI가 지시사항에 따라 구조화 시도\n- **문자열 타입**: 프로그래밍적 접근을 위해서는 추가 파싱 필요\n- **형식 일관성**: 동일한 구조의 출력 생성\n\n### 다음 단계\n\n이 텍스트 결과를 실제 Python 객체로 변환하기 위해 PydanticOutputParser의 `parse()` 메서드를 사용합니다."
  },
  {
   "cell_type": "code",
   "execution_count": null,
   "metadata": {},
   "outputs": [],
   "source": [
    "# 체인 실행 (스트리밍 방식으로 응답 생성)\n",
    "response = chain.stream(\n",
    "    {\n",
    "        \"email_conversation\": email_conversation,  # 이메일 내용 입력\n",
    "        \"question\": \"이메일 내용중 주요 내용을 추출해 주세요.\",  # 사용자 질문\n",
    "    }\n",
    ")\n",
    "\n",
    "# 스트리밍 응답을 실시간으로 출력하고 결과 저장\n",
    "output = stream_response(response, return_output=True)"
   ]
  },
  {
   "cell_type": "markdown",
   "metadata": {},
   "source": "---\n\n## 텍스트에서 구조화된 데이터로 변환\n\n### parse() 메서드의 역할\n\nPydanticOutputParser의 핵심 기능인 텍스트 파싱 과정을 분석합니다.\n\n#### 변환 과정\n\n| 단계 | 작업 내용 | 기술적 구현 |\n|------|----------|-------------|\n| **1. 텍스트 분석** | JSON 형태 문자열 식별 | 정규식 또는 파싱 라이브러리 |\n| **2. JSON 파싱** | 문자열을 Python 딕셔너리로 변환 | json.loads() 또는 유사 기능 |\n| **3. 객체 생성** | 딕셔너리를 Pydantic 모델로 변환 | Pydantic 검증 엔진 |\n| **4. 타입 검증** | 필드별 타입 및 제약조건 확인 | Pydantic 검증 규칙 |\n\n#### 변환 후 데이터 접근\n\n구조화된 객체로 변환된 후에는 다음과 같은 방식으로 데이터에 접근할 수 있습니다:\n\n```python\nresult.person      # 발신자 이름\nresult.email       # 이메일 주소  \nresult.subject     # 메일 제목\nresult.summary     # 내용 요약\nresult.date        # 미팅 일정\n```\n\n### 파싱의 장점\n\n- **타입 안전성**: 각 필드가 정의된 타입으로 보장\n- **자동 완성**: IDE에서 속성 자동 완성 지원\n- **오류 방지**: 잘못된 필드 접근 시 컴파일 타임 오류 발생"
  },
  {
   "cell_type": "code",
   "execution_count": null,
   "metadata": {},
   "outputs": [],
   "source": [
    "# 텍스트 응답을 EmailSummary 객체로 변환 (구조화된 데이터로 파싱)\n",
    "structured_output = parser.parse(output)\n",
    "print(structured_output)"
   ]
  },
  {
   "cell_type": "code",
   "execution_count": null,
   "metadata": {},
   "outputs": [],
   "source": [
    "structured_output.date"
   ]
  },
  {
   "cell_type": "markdown",
   "metadata": {},
   "source": "---\n\n## 완전한 파이프라인 구성\n\n### 통합 체인 구조\n\n모든 처리 과정을 하나의 파이프라인으로 연결합니다.\n\n#### 3단계 파이프라인\n\n```python\nchain = prompt | llm | parser\n```\n\n#### 완전 자동화 처리 흐름\n\n| 단계 | 구성 요소 | 입력 | 출력 |\n|------|----------|------|------|\n| **1** | PromptTemplate | 사용자 데이터 | 완성된 프롬프트 |\n| **2** | ChatOpenAI | 완성된 프롬프트 | JSON 형태 텍스트 |\n| **3** | PydanticOutputParser | JSON 텍스트 | EmailSummary 객체 |\n\n### 통합 파이프라인의 이점\n\n#### 효율성\n- **단일 호출**: 한 번의 `invoke()` 또는 `stream()` 호출로 전체 처리 완료\n- **자동 연결**: 각 단계 간 데이터 전달이 자동으로 처리\n- **오류 처리**: 파이프라인 차원에서 통합된 오류 관리\n\n#### 유지보수성\n- **모듈식 구조**: 각 구성 요소를 독립적으로 수정 가능\n- **테스트 용이성**: 전체 파이프라인 또는 개별 구성 요소별 테스트\n- **재사용성**: 다른 프로젝트나 유사한 작업에서 활용 가능\n\n### 실행 결과 특성\n\n최종 결과는 바로 사용 가능한 EmailSummary 객체로, 추가적인 파싱 과정 없이 프로그램에서 직접 활용할 수 있습니다."
  },
  {
   "cell_type": "code",
   "execution_count": null,
   "metadata": {},
   "outputs": [],
   "source": [
    "# 파서까지 포함한 완전한 체인 구성 (프롬프트 + 모델 + 파서)\n",
    "chain = prompt | llm | parser"
   ]
  },
  {
   "cell_type": "code",
   "execution_count": null,
   "metadata": {},
   "outputs": [],
   "source": [
    "# 완전한 체인 실행 (한 번에 구조화된 결과 생성)\n",
    "response = chain.invoke(\n",
    "    {\n",
    "        \"email_conversation\": email_conversation,  # 이메일 내용 입력\n",
    "        \"question\": \"이메일 내용중 주요 내용을 추출해 주세요.\",  # 사용자 질문\n",
    "    }\n",
    ")\n",
    "\n",
    "# 결과가 자동으로 EmailSummary 객체 형태로 반환됨\n",
    "response"
   ]
  },
  {
   "cell_type": "markdown",
   "metadata": {},
   "source": "---\n\n## 대안 접근법: with_structured_output()\n\nPydanticOutputParser보다 간단한 구조화된 출력 방법을 제공합니다."
  },
  {
   "cell_type": "markdown",
   "metadata": {},
   "source": "### with_structured_output() 방식의 특징\n\n이 방법은 별도의 프롬프트 템플릿이나 파서 설정 없이 직접 구조화된 출력을 얻을 수 있습니다.\n\n#### 두 방식 비교\n\n| 특성 | PydanticOutputParser | with_structured_output() |\n|------|---------------------|--------------------------|\n| **설정 복잡도** | 높음 | 낮음 |\n| **프롬프트 제어** | 완전 제어 | 제한적 |\n| **커스터마이징** | 높은 자유도 | 기본 설정 위주 |\n| **실행 속도** | 보통 | 빠름 |\n| **학습 곡선** | 가파름 | 완만함 |\n\n#### 사용 권장 상황\n\n**with_structured_output() 권장:**\n- 빠른 프로토타입 개발\n- 간단한 구조화 작업\n- 최소한의 설정으로 결과 확인\n\n**PydanticOutputParser 권장:**\n- 복잡한 프롬프트 엔지니어링 필요\n- 세밀한 출력 형식 제어 필요\n- 프로덕션 환경에서의 안정적 처리\n\n### 기능적 제약사항\n\n`with_structured_output()` 방식은 스트리밍 기능을 지원하지 않습니다. 실시간 출력이 필요한 경우에는 PydanticOutputParser를 사용해야 합니다."
  },
  {
   "cell_type": "code",
   "execution_count": null,
   "metadata": {},
   "outputs": [],
   "source": [
    "# 이메일 정보를 구조화하기 위한 Pydantic 모델 정의\n",
    "class EmailSummary(BaseModel):\n",
    "    person: str = Field(description=\"메일을 보낸 사람\")\n",
    "    email: str = Field(description=\"메일을 보낸 사람의 이메일 주소\")\n",
    "    subject: str = Field(description=\"메일 제목\")\n",
    "    summary: str = Field(description=\"메일 본문을 요약한 텍스트\")\n",
    "    date: str = Field(description=\"메일 본문에 언급된 미팅 날짜와 시간\")"
   ]
  },
  {
   "cell_type": "code",
   "execution_count": null,
   "metadata": {},
   "outputs": [],
   "source": "# with_structured_output을 사용한 구조화된 출력\nllm_with_structered = ChatOpenAI(\n    temperature=0.1,\n    model_name=\"openai/gpt-4.1\",\n    api_key=os.getenv(\"OPENROUTER_API_KEY\"),\n    base_url=os.getenv(\"OPENROUTER_BASE_URL\"),\n).with_structured_output(EmailSummary)"
  },
  {
   "cell_type": "code",
   "execution_count": null,
   "metadata": {},
   "outputs": [],
   "source": [
    "# with_structured_output을 사용한 간편한 구조화된 출력\n",
    "answer = llm_with_structered.invoke(email_conversation)\n",
    "answer"
   ]
  },
  {
   "cell_type": "code",
   "execution_count": null,
   "metadata": {},
   "outputs": [],
   "source": [
    "# invoke() 함수를 호출하여 결과를 출력합니다.\n",
    "answer = llm_with_structered.invoke(email_conversation)\n",
    "answer"
   ]
  },
  {
   "cell_type": "markdown",
   "metadata": {},
   "source": "### 참고사항\n\n**중요**: `with_structured_output()` 메서드는 `stream()` 기능을 지원하지 않습니다. 실시간 스트리밍이 필요한 애플리케이션에서는 PydanticOutputParser를 사용하시기 바랍니다."
  }
 ],
 "metadata": {
  "kernelspec": {
   "display_name": ".venv",
   "language": "python",
   "name": "python3"
  },
  "language_info": {
   "codemirror_mode": {
    "name": "ipython",
    "version": 3
   },
   "file_extension": ".py",
   "mimetype": "text/x-python",
   "name": "python",
   "nbconvert_exporter": "python",
   "pygments_lexer": "ipython3",
   "version": "3.11.11"
  }
 },
 "nbformat": 4,
 "nbformat_minor": 2
}