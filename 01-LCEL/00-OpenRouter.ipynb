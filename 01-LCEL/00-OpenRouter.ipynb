{
 "cells": [
  {
   "cell_type": "markdown",
   "id": "bjfdd5alibo",
   "metadata": {},
   "source": [
    "# OpenRouter\n",
    "\n",
    "## 개요\n",
    "\n",
    "**OpenRouter** 는 여러 AI 모델 제공업체의 API를 통합하여 제공하는 서비스입니다. 하나의 API 키로 OpenAI, Anthropic, Google, Meta 등 다양한 모델에 접근할 수 있어 개발자에게 편의성을 제공합니다.\n",
    "\n",
    "## OpenRouter의 주요 특징\n",
    "\n",
    "| 특징 | 설명 |\n",
    "|------|------|\n",
    "| **통합 API** | 여러 모델 제공업체를 하나의 API로 접근 |\n",
    "| **비용 효율성** | 모델별 최적화된 가격 정책 제공 |\n",
    "| **모델 다양성** | GPT-4, Claude, Gemini 등 다양한 모델 지원 |\n",
    "| **사용 편의성** | 동일한 인터페이스로 모든 모델 사용 가능 |\n",
    "\n",
    "## 사전 준비사항\n",
    "\n",
    "1. **OpenRouter 계정 생성**: [https://openrouter.ai](https://openrouter.ai)에서 계정 생성\n",
    "2. **API 키 발급**: 대시보드에서 API 키 생성\n",
    "3. **환경 변수 설정**: `.env` 파일에 필요한 키 값 설정\n",
    "\n",
    "### 필요한 환경 변수\n",
    "\n",
    "```\n",
    "OPENROUTER_API_KEY=your_api_key_here\n",
    "OPENROUTER_BASE_URL=https://openrouter.ai/api/v1\n",
    "LANGSMITH_API_KEY=your_langsmith_key_here  # LangSmith 추적용 (선택사항)\n",
    "```"
   ]
  },
  {
   "cell_type": "code",
   "execution_count": null,
   "id": "3bf28f9e",
   "metadata": {},
   "outputs": [],
   "source": [
    "# API KEY를 환경변수로 관리하기 위한 설정 파일\n",
    "from dotenv import load_dotenv\n",
    "\n",
    "# API KEY 정보로드\n",
    "load_dotenv(override=True)"
   ]
  },
  {
   "cell_type": "markdown",
   "id": "yvbhwr4v84h",
   "metadata": {},
   "source": [
    "## 환경 설정\n",
    "\n",
    "**환경 변수** 를 통해 API 키를 안전하게 관리합니다. 이는 보안상 중요한 관행으로, 코드에 직접 API 키를 노출하지 않고 별도 파일에서 관리합니다."
   ]
  },
  {
   "cell_type": "code",
   "execution_count": null,
   "id": "93ac45ce",
   "metadata": {},
   "outputs": [],
   "source": [
    "# LangSmith 추적을 설정합니다. https://smith.langchain.com\n",
    "# .env 파일에 LANGCHAIN_API_KEY를 입력합니다.\n",
    "from langchain_teddynote import logging\n",
    "\n",
    "# 프로젝트 이름을 입력합니다.\n",
    "logging.langsmith(\"LangChain-Tutorial\")"
   ]
  },
  {
   "cell_type": "markdown",
   "id": "4cb08764",
   "metadata": {},
   "source": [
    "## OpenRouter 모델 선택\n",
    "\n",
    "**OpenRouter** 에서는 다양한 AI 모델을 제공합니다. 각 모델의 특성과 비용을 고려하여 적절한 모델을 선택할 수 있습니다.\n",
    "\n",
    "### 주요 모델 정보\n",
    "\n",
    "| 모델 | 제공업체 | 특징 | 적합한 용도 |\n",
    "|------|----------|------|-------------|\n",
    "| **openai/gpt-4.1** | OpenAI | 최고 성능, 복잡한 추론 | 고급 분석, 창작 |\n",
    "| **google/gemini-2.5-flash** | Google | 빠른 응답, 멀티모달 | 일반적인 질의응답 |\n",
    "| **anthropic/claude-3-sonnet** | Anthropic | 안전성, 긴 컨텍스트 | 문서 분석, 요약 |\n",
    "| **meta-llama/llama-3** | Meta | 오픈소스, 커스터마이징 | 특화된 작업 |\n",
    "\n",
    "**모델 목록 확인**: [https://openrouter.ai/models](https://openrouter.ai/models)"
   ]
  },
  {
   "cell_type": "markdown",
   "id": "ei5rxg1hx7c",
   "metadata": {},
   "source": [
    "## ChatOpenAI 객체 생성 및 실행\n",
    "\n",
    "**ChatOpenAI** 클래스를 사용하여 OpenRouter를 통해 AI 모델과 상호작용합니다. 다음 예제에서는 GPT-4.1 모델을 사용합니다.\n",
    "\n",
    "### 주요 매개변수 설명\n",
    "\n",
    "| 매개변수 | 설명 | 예시 값 |\n",
    "|----------|------|---------|\n",
    "| **temperature** | 응답의 창의성 조절 (0.0~1.0) | `0.1` (일관된 응답) |\n",
    "| **model_name** | 사용할 모델명 | `\"openai/gpt-4.1\"` |\n",
    "| **api_key** | OpenRouter API 키 | 환경변수에서 로드 |\n",
    "| **base_url** | OpenRouter API 엔드포인트 | 환경변수에서 로드 |"
   ]
  },
  {
   "cell_type": "code",
   "execution_count": null,
   "id": "5fc161c2",
   "metadata": {},
   "outputs": [],
   "source": [
    "from langchain_teddynote.messages import stream_response\n",
    "from langchain_openai import ChatOpenAI\n",
    "import os\n",
    "\n",
    "# ChatOpenAI 객체 생성\n",
    "llm = ChatOpenAI(\n",
    "    temperature=0.1,\n",
    "    model_name=\"openai/gpt-4.1\",  # OpenRouter에서 제공하는 GPT-4.1 모델\n",
    "    api_key=os.getenv(\"OPENROUTER_API_KEY\"),  # OpenRouter API 키\n",
    "    base_url=os.getenv(\"OPENROUTER_BASE_URL\"),  # OpenRouter API URL\n",
    ")\n",
    "\n",
    "# 사용자 질의내용 정의\n",
    "question = \"대한민국의 수도는?\"\n",
    "\n",
    "# LLM에 질의하고 결과 출력\n",
    "stream_response(llm.stream(question))"
   ]
  }
 ],
 "metadata": {
  "kernelspec": {
   "display_name": ".venv",
   "language": "python",
   "name": "python3"
  },
  "language_info": {
   "codemirror_mode": {
    "name": "ipython",
    "version": 3
   },
   "file_extension": ".py",
   "mimetype": "text/x-python",
   "name": "python",
   "nbconvert_exporter": "python",
   "pygments_lexer": "ipython3",
   "version": "3.11.11"
  }
 },
 "nbformat": 4,
 "nbformat_minor": 5
}
