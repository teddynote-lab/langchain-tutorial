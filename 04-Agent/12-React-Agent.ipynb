{
 "cells": [
  {
   "cell_type": "markdown",
   "metadata": {},
   "source": [
    "# 🤖 React Agent 완전 정복 가이드\n",
    "\n",
    "## 📚 개요\n",
    "\n",
    "**React Agent**는 **\"생각하고(Reasoning) → 행동하고(Acting) → 관찰하는(Observing)\"** 패턴을 반복하며 문제를 해결하는 똑똑한 AI 에이전트입니다! 🧠\n",
    "\n",
    "### 🏗️ React Agent가 특별한 이유\n",
    "\n",
    "일반적인 AI는 질문을 받으면 바로 답변하지만, React Agent는 다릅니다:\n",
    "\n",
    "- **🔍 스스로 생각**: 문제를 분석하고 해결 방법을 계획\n",
    "- **🛠️ 도구 사용**: 웹 검색, 파일 처리, 계산기 등 다양한 도구 활용\n",
    "- **🔄 반복 개선**: 결과를 보고 더 나은 방법으로 재시도\n",
    "- **📝 추론 기록**: 모든 사고 과정을 단계별로 기록\n",
    "\n",
    "### 🎯 이 튜토리얼에서 배울 것들\n",
    "\n",
    "1. **🌐 React Agent 기본 개념** - Reasoning, Acting, Observing이 뭔지 쉽게 이해하기\n",
    "2. **🔧 다양한 도구 연결** - 웹 검색, 파일 관리, PDF 검색 도구 설정\n",
    "3. **🤖 에이전트 생성과 실행** - LangGraph를 활용한 React Agent 구축\n",
    "4. **💬 메모리 기능 활용** - 대화 기록을 기억하는 똑똑한 에이전트\n",
    "5. **🚀 실전 활용 사례** - 뉴스 검색부터 보고서 작성까지\n",
    "\n",
    "### 🎮 실생활 비유로 이해하기\n",
    "\n",
    "**React Agent**를 **연구원**에 비유해보세요:\n",
    "\n",
    "```\n",
    "📊 문제 접수 → 🤔 어떻게 해결할까? (Reasoning)\n",
    "                ↓\n",
    "📚 자료 조사 → 🛠️ 필요한 도구로 작업 (Acting)  \n",
    "                ↓\n",
    "📋 결과 확인 → 👀 만족스러운가? (Observing)\n",
    "                ↓\n",
    "           🔄 아니면 다시 생각해보자!\n",
    "```\n",
    "\n",
    "### 💡 핵심 철학\n",
    "\n",
    "> **\"한 번에 완벽할 순 없지만, 계속 개선하면 최고의 결과를 만들 수 있다\"**\n",
    "> \n",
    "> _생각하고, 행동하고, 관찰하며 발전하는 AI_ 🎯\n",
    "\n",
    "### 🚀 준비되셨나요?\n",
    "\n",
    "이제 실제 예제를 통해 React Agent의 놀라운 세계로 들어가봅시다!"
   ]
  },
  {
   "cell_type": "markdown",
   "metadata": {},
   "source": [
    "## 📖 React Agent 작동 원리\n",
    "\n",
    "![](assets/agent.png)\n",
    "\n",
    "**React Agent**는 위 그림처럼 **순환적 사고 과정**을 통해 문제를 해결합니다.\n",
    "\n",
    "### 🔄 React 패턴의 3단계\n",
    "\n",
    "#### 1️⃣ **Reasoning (추론)** 🤔\n",
    "- **\"지금 상황을 어떻게 해결할까?\"**\n",
    "- 문제를 분석하고 다음 행동을 계획\n",
    "- 사용 가능한 도구들을 검토하고 최적의 방법 선택\n",
    "\n",
    "#### 2️⃣ **Acting (행동)** 🛠️\n",
    "- **\"계획에 따라 실행해보자!\"**\n",
    "- 웹 검색, 파일 처리, 계산 등 구체적인 작업 수행\n",
    "- 도구를 활용하여 정보 수집 및 처리\n",
    "\n",
    "#### 3️⃣ **Observing (관찰)** 👀\n",
    "- **\"결과가 만족스럽나? 더 필요한 건 없나?\"**\n",
    "- 실행 결과를 분석하고 목표 달성 여부 판단\n",
    "- 추가 작업이 필요하면 1단계로 돌아가서 반복\n",
    "\n",
    "### 💡 왜 React 패턴이 강력한가?\n",
    "\n",
    "✅ **단계적 접근**: 복잡한 문제를 단계별로 해결  \n",
    "✅ **실시간 적응**: 중간 결과에 따라 전략 변경  \n",
    "✅ **도구 활용**: 다양한 외부 도구를 효과적으로 사용  \n",
    "✅ **추적 가능**: 모든 사고 과정이 기록되어 디버깅 용이\n",
    "\n",
    "---\n",
    "\n",
    "## 🛠️ 환경 설정"
   ]
  },
  {
   "cell_type": "code",
   "execution_count": null,
   "metadata": {},
   "outputs": [],
   "source": [
    "# API 키를 환경변수로 관리하기 위한 설정 파일\n",
    "from dotenv import load_dotenv\n",
    "\n",
    "# API 키 정보 로드\n",
    "load_dotenv(override=True)"
   ]
  },
  {
   "cell_type": "code",
   "execution_count": null,
   "metadata": {},
   "outputs": [],
   "source": [
    "# LangSmith 추적을 설정합니다. https://smith.langchain.com\n",
    "# !pip install -qU langchain-teddynote\n",
    "from langchain_teddynote import logging\n",
    "\n",
    "# 프로젝트 이름을 입력합니다.\n",
    "logging.langsmith(\"LangChain-Tutorial\")"
   ]
  },
  {
   "cell_type": "code",
   "execution_count": null,
   "metadata": {},
   "outputs": [],
   "source": [
    "from langchain_openai import ChatOpenAI\n",
    "from langchain_teddynote.tools.tavily import TavilySearch\n",
    "from langchain_core.messages import HumanMessage\n",
    "from langgraph.checkpoint.memory import MemorySaver\n",
    "from langgraph.prebuilt import create_react_agent\n",
    "\n",
    "# 메모리 설정 - 대화 기록을 저장하기 위한 메모리\n",
    "memory = MemorySaver()\n",
    "\n",
    "# LLM 모델 설정 - GPT-4.1 모델 사용\n",
    "model = ChatOpenAI(model_name=\"gpt-4.1\")"
   ]
  },
  {
   "cell_type": "markdown",
   "metadata": {},
   "source": [
    "# 🔧 도구 설정\n",
    "\n",
    "React Agent의 핵심은 **다양한 도구를 효과적으로 사용**하는 것입니다! 마치 **만능 도구상자**를 가진 전문가처럼, 상황에 맞는 최적의 도구를 선택하여 문제를 해결합니다. 🧰\n",
    "\n",
    "### 🎯 도구별 역할 분담\n",
    "\n",
    "각각의 도구는 서로 다른 전문 분야를 담당합니다:\n",
    "\n",
    "- **🌐 웹 검색 도구**: 실시간 정보 수집 전문가\n",
    "- **📁 파일 관리 도구**: 문서 작성/편집 전문가  \n",
    "- **📚 PDF 검색 도구**: 특정 문서 내용 분석 전문가\n",
    "\n",
    "### 💡 도구 선택의 지혜\n",
    "\n",
    "Agent는 **사용자의 요청을 분석**해서 가장 적합한 도구를 자동으로 선택합니다:\n",
    "\n",
    "```\n",
    "\"최신 뉴스를 알려줘\" → 🌐 웹 검색 도구 사용\n",
    "\"파일로 저장해줘\" → 📁 파일 관리 도구 사용  \n",
    "\"이 문서에서 찾아줘\" → 📚 PDF 검색 도구 사용\n",
    "```\n",
    "\n",
    "---\n",
    "\n",
    "## 🌐 웹 검색 도구"
   ]
  },
  {
   "cell_type": "markdown",
   "metadata": {},
   "source": [
    "**TavilySearch**는 Agent가 **실시간 웹 정보를 검색**할 수 있게 해주는 강력한 도구입니다! 📡\n",
    "\n",
    "### 🎯 TavilySearch의 특징\n",
    "\n",
    "#### 🔍 **정확한 정보 수집**\n",
    "- AI에 최적화된 검색 엔진\n",
    "- 관련성 높은 결과만 선별적으로 제공\n",
    "- 실시간 최신 정보 접근 가능\n",
    "\n",
    "#### ⚙️ **유연한 설정 옵션**\n",
    "- `topic`: 검색 주제 설정 (general/news)\n",
    "- `max_results`: 검색 결과 개수 제한\n",
    "- `include_answer`: 요약 답변 포함 여부\n",
    "- `format_output`: 결과 포맷팅 여부\n",
    "\n",
    "### 💡 언제 사용하면 좋을까?\n",
    "\n",
    "✅ **최신 뉴스나 이벤트 정보**  \n",
    "✅ **실시간 변하는 데이터** (주가, 날씨 등)  \n",
    "✅ **웹에서만 찾을 수 있는 정보**  \n",
    "✅ **트렌드나 인기 검색어**"
   ]
  },
  {
   "cell_type": "code",
   "execution_count": 4,
   "metadata": {},
   "outputs": [],
   "source": [
    "from langchain_teddynote.tools.tavily import TavilySearch\n",
    "\n",
    "\n",
    "web_search = TavilySearch(\n",
    "    topic=\"general\",  # 뉴스 주제 (general 또는 news)\n",
    "    max_results=5,  # 최대 검색 결과\n",
    "    include_answer=False,\n",
    "    include_raw_content=False,\n",
    "    include_images=False,\n",
    "    format_output=False,  # 결과 포맷팅\n",
    ")\n",
    "\n",
    "web_search.name = \"web_search\"\n",
    "web_search.description = (\n",
    "    \"Use this tool to search on the web for any topic other than news.\"\n",
    ")"
   ]
  },
  {
   "cell_type": "code",
   "execution_count": null,
   "metadata": {},
   "outputs": [],
   "source": [
    "result = web_search.search(\"SK AI SUMMIT 2024 관련된 정보를 찾아줘\")\n",
    "print(result)"
   ]
  },
  {
   "cell_type": "markdown",
   "metadata": {},
   "source": [
    "## 📁 파일 관리 도구\n",
    "\n",
    "**FileManagementToolkit**은 Agent가 **파일을 생성, 편집, 관리**할 수 있게 해주는 필수 도구입니다! 📝\n",
    "\n",
    "### 🎯 파일 관리의 핵심 기능\n",
    "\n",
    "#### 📝 **다양한 파일 작업**\n",
    "- **파일 생성**: 새로운 문서, 보고서 작성\n",
    "- **파일 읽기**: 기존 파일 내용 확인\n",
    "- **파일 편집**: 내용 수정 및 업데이트\n",
    "- **파일 삭제**: 불필요한 파일 정리\n",
    "\n",
    "#### 🏠 **작업 디렉토리 설정**\n",
    "- `root_dir`: 파일 작업을 수행할 기본 폴더\n",
    "- 보안을 위해 지정된 폴더 내에서만 작업\n",
    "- 실수로 중요한 시스템 파일 손상 방지\n",
    "\n",
    "### 💡 실제 활용 사례\n",
    "\n",
    "✅ **보고서 및 문서 자동 생성**  \n",
    "✅ **검색 결과를 파일로 저장**  \n",
    "✅ **데이터 분석 결과 문서화**  \n",
    "✅ **회의록 및 요약 문서 작성**\n",
    "\n",
    "### ⚠️ 보안 주의사항\n",
    "\n",
    "- 지정된 `tmp` 폴더 내에서만 작업\n",
    "- 시스템 파일이나 중요 문서는 접근 불가\n",
    "- 안전한 샌드박스 환경에서 실행"
   ]
  },
  {
   "cell_type": "code",
   "execution_count": 6,
   "metadata": {},
   "outputs": [],
   "source": [
    "from langchain_community.agent_toolkits import FileManagementToolkit\n",
    "\n",
    "# 'tmp'라는 이름의 디렉토리를 작업 디렉토리로 설정합니다.\n",
    "working_directory = \"tmp\"\n",
    "\n",
    "# FileManagementToolkit 객체를 생성합니다.\n",
    "file_management_tools = FileManagementToolkit(\n",
    "    root_dir=str(working_directory),\n",
    ").get_tools()"
   ]
  },
  {
   "cell_type": "code",
   "execution_count": null,
   "metadata": {},
   "outputs": [],
   "source": [
    "# 파일 관리 도구 출력\n",
    "file_management_tools"
   ]
  },
  {
   "cell_type": "markdown",
   "metadata": {},
   "source": [
    "## Retriever 도구"
   ]
  },
  {
   "cell_type": "code",
   "execution_count": null,
   "metadata": {},
   "outputs": [],
   "source": [
    "from langchain.text_splitter import RecursiveCharacterTextSplitter\n",
    "from langchain_community.vectorstores import FAISS\n",
    "from langchain_openai import OpenAIEmbeddings\n",
    "from langchain.document_loaders import PDFPlumberLoader\n",
    "\n",
    "# PDF 파일 로드. 파일의 경로 입력\n",
    "loader = PDFPlumberLoader(\"data/SPRI_AI_Brief_2023년12월호_F.pdf\")\n",
    "\n",
    "# 텍스트 분할기를 사용하여 문서를 분할합니다.\n",
    "text_splitter = RecursiveCharacterTextSplitter(chunk_size=1000, chunk_overlap=100)\n",
    "\n",
    "# 문서를 로드하고 분할합니다.\n",
    "split_docs = loader.load_and_split(text_splitter)\n",
    "\n",
    "# VectorStore를 생성합니다. - 문서 임베딩을 위한 벡터 저장소\n",
    "vector = FAISS.from_documents(\n",
    "    split_docs, OpenAIEmbeddings(model=\"text-embedding-3-small\")\n",
    ")\n",
    "\n",
    "# Retriever를 생성합니다. - 관련 문서를 검색하기 위한 리트리버\n",
    "pdf_retriever = vector.as_retriever()"
   ]
  },
  {
   "cell_type": "code",
   "execution_count": 9,
   "metadata": {},
   "outputs": [],
   "source": [
    "from langchain_core.tools.retriever import create_retriever_tool\n",
    "from langchain_core.prompts import PromptTemplate\n",
    "\n",
    "# PDF 문서를 기반으로 검색 도구 생성\n",
    "retriever_tool = create_retriever_tool(\n",
    "    pdf_retriever,\n",
    "    \"pdf_retriever\",\n",
    "    \"Search and return information about SPRI AI Brief PDF file. It contains useful information on recent AI trends. The document is published on Dec 2023.\",\n",
    "    document_prompt=PromptTemplate.from_template(\n",
    "        \"<document><context>{page_content}</context><metadata><source>{source}</source><page>{page}</page></metadata></document>\"\n",
    "    ),\n",
    ")"
   ]
  },
  {
   "cell_type": "markdown",
   "metadata": {},
   "source": [
    "도구 목록을 정의합니다."
   ]
  },
  {
   "cell_type": "code",
   "execution_count": null,
   "metadata": {},
   "outputs": [],
   "source": [
    "tools = [web_search, *file_management_tools, retriever_tool]\n",
    "tools"
   ]
  },
  {
   "cell_type": "markdown",
   "metadata": {},
   "source": [
    "## 에이전트 생성"
   ]
  },
  {
   "cell_type": "code",
   "execution_count": 11,
   "metadata": {},
   "outputs": [],
   "source": [
    "from langgraph.prebuilt import create_react_agent\n",
    "\n",
    "agent_executor = create_react_agent(model, tools, checkpointer=memory)"
   ]
  },
  {
   "cell_type": "markdown",
   "metadata": {},
   "source": [
    "에이전트를 시각화 합니다."
   ]
  },
  {
   "cell_type": "code",
   "execution_count": null,
   "metadata": {},
   "outputs": [],
   "source": [
    "from langchain_teddynote.graphs import visualize_graph\n",
    "\n",
    "visualize_graph(agent_executor)"
   ]
  },
  {
   "cell_type": "markdown",
   "metadata": {},
   "source": [
    "## 출력 함수 정의"
   ]
  },
  {
   "cell_type": "code",
   "execution_count": 13,
   "metadata": {},
   "outputs": [],
   "source": [
    "from langchain_teddynote.messages import stream_graph"
   ]
  },
  {
   "cell_type": "code",
   "execution_count": null,
   "metadata": {},
   "outputs": [],
   "source": [
    "# Config 설정\n",
    "config = {\"configurable\": {\"thread_id\": \"abc123\"}}\n",
    "inputs = {\"messages\": [(\"human\", \"안녕? 내 이름은 테디야\")]}\n",
    "\n",
    "# 그래프 스트림\n",
    "stream_graph(agent_executor, inputs, config, node_names=[\"agent\"])"
   ]
  },
  {
   "cell_type": "code",
   "execution_count": null,
   "metadata": {},
   "outputs": [],
   "source": [
    "config = {\"configurable\": {\"thread_id\": \"abc123\"}}\n",
    "inputs = {\"messages\": [(\"human\", \"내 이름이 뭐라고?\")]}\n",
    "\n",
    "# 그래프 스트림\n",
    "stream_graph(agent_executor, inputs, config, node_names=[\"agent\"])"
   ]
  },
  {
   "cell_type": "code",
   "execution_count": null,
   "metadata": {},
   "outputs": [],
   "source": [
    "config = {\"configurable\": {\"thread_id\": \"abc123\"}}\n",
    "inputs = {\n",
    "    \"messages\": [\n",
    "        (\"human\", \"AI Brief 보고서에서 Anthropic 투자 관련된 정보를 요약해줘.\")\n",
    "    ]\n",
    "}\n",
    "stream_graph(agent_executor, inputs, config, node_names=[\"agent\", \"tools\"])"
   ]
  },
  {
   "cell_type": "code",
   "execution_count": null,
   "metadata": {},
   "outputs": [],
   "source": [
    "config = {\"configurable\": {\"thread_id\": \"abc123\"}}\n",
    "inputs = {\n",
    "    \"messages\": [\n",
    "        (\n",
    "            \"human\",\n",
    "            \"한강 작가의 노벨상 수상 관련된 뉴스를 검색하고 보고서 형식에 맞게 작성해줘\",\n",
    "        )\n",
    "    ]\n",
    "}\n",
    "stream_graph(agent_executor, inputs, config, node_names=[\"agent\", \"tools\"])"
   ]
  },
  {
   "cell_type": "code",
   "execution_count": 18,
   "metadata": {},
   "outputs": [],
   "source": [
    "instruction = \"\"\"\n",
    "당신의 임무는 `보도자료`를 작성하는 것입니다.\n",
    "----\n",
    "다음의 내용을 순서대로 처리해 주세요.\n",
    "1. `한강 작가의 노벨상 수상` 관련된 뉴스를 검색해 주세요.\n",
    "2. 노벨상 수상 관련 뉴스를 바탕으로 보고서 / 보드자료 작성해 주세요.\n",
    "3. 단, 중간에 요점 정리를 위한 markdown 테이블 형식 요약을 적극 활용해 주세요.\n",
    "4. 출력 결과를 파일로 저장해 주세요. (파일 이름은 \"agent_press_release.md\")\n",
    "\"\"\""
   ]
  },
  {
   "cell_type": "code",
   "execution_count": null,
   "metadata": {},
   "outputs": [],
   "source": [
    "config = {\"configurable\": {\"thread_id\": \"abc123\"}}\n",
    "inputs = {\"messages\": [(\"human\", instruction)]}\n",
    "stream_graph(agent_executor, inputs, config, node_names=[\"agent\", \"tools\"])"
   ]
  }
 ],
 "metadata": {
  "kernelspec": {
   "display_name": "langchain-kr-CdOel15G-py3.11",
   "language": "python",
   "name": "python3"
  },
  "language_info": {
   "codemirror_mode": {
    "name": "ipython",
    "version": 3
   },
   "file_extension": ".py",
   "mimetype": "text/x-python",
   "name": "python",
   "nbconvert_exporter": "python",
   "pygments_lexer": "ipython3",
   "version": "3.11.11"
  }
 },
 "nbformat": 4,
 "nbformat_minor": 2
}
