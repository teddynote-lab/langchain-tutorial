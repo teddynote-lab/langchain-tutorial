{
 "cells": [
  {
   "cell_type": "markdown",
   "metadata": {},
   "source": [
    "# 🔧 LangChain Tools (도구) 완전 정복 가이드\n",
    "\n",
    "## 📚 개요\n",
    "\n",
    "**도구(Tool)** 는 에이전트, 체인 또는 LLM이 외부 세계와 상호작용하기 위한 인터페이스입니다.\n",
    "\n",
    "도구를 활용하면 AI 모델이 단순히 텍스트를 생성하는 것을 넘어서 **실제 작업을 수행** 할 수 있게 됩니다. 예를 들어:\n",
    "- 📊 **데이터 분석**: Python 코드를 실행하여 계산 수행\n",
    "- 🔍 **정보 검색**: 웹에서 최신 정보를 찾아오기\n",
    "- 📰 **웹 크롤링**: 특정 웹사이트에서 데이터 추출\n",
    "- 🧮 **계산 처리**: 복잡한 수학적 연산 수행\n",
    "\n",
    "### 🎯 학습 목표\n",
    "\n",
    "이 튜토리얼을 통해 다음을 학습할 수 있습니다:\n",
    "\n",
    "1. **🔨 빌트인 도구** - LangChain에서 기본 제공하는 도구 활용\n",
    "2. **⚙️ 사용자 정의 도구** - 나만의 도구 제작 방법\n",
    "3. **🌐 웹 검색 도구** - Tavily API를 통한 실시간 정보 검색\n",
    "4. **📰 뉴스 크롤링 도구** - 실제 웹사이트에서 데이터 수집\n",
    "5. **🔗 도구와 LLM 연결** - AI 모델이 도구를 자동으로 활용하는 방법\n",
    "\n",
    "### 💡 왜 도구가 중요한가요?\n",
    "\n",
    "기존의 AI 모델은 **학습된 데이터까지만** 알 수 있었습니다. 하지만 도구를 사용하면:\n",
    "\n",
    "✅ **최신 정보 접근**: 실시간 검색으로 최신 뉴스나 데이터 확인  \n",
    "✅ **정확한 계산**: 수학적 계산을 정확하게 수행  \n",
    "✅ **외부 시스템 연동**: 데이터베이스, API, 파일 시스템 등과 연결  \n",
    "✅ **작업 자동화**: 반복적인 작업을 AI가 대신 처리\n",
    "\n",
    "### 📋 목차\n",
    "\n",
    "1. **[환경 설정](#환경-설정)** - 기본 설정 및 라이브러리 로드\n",
    "2. **[빌트인 도구](#빌트인-도구-built-in-tools)** - LangChain 기본 제공 도구\n",
    "   - Python REPL 도구\n",
    "   - Tavily 검색 API 도구\n",
    "3. **[사용자 정의 도구](#사용자-정의-도구-custom-tool)** - 나만의 도구 제작\n",
    "   - @tool 데코레이터 사용법\n",
    "   - 네이버 뉴스 크롤링 도구\n",
    "   - 구글 뉴스 검색 도구\n",
    "\n",
    "**LangChain 에 통합된 도구 리스트는 아래 링크에서 확인할 수 있습니다.**\n",
    "\n",
    "- [LangChain 통합된 도구 리스트](https://python.langchain.com/docs/integrations/tools/)"
   ]
  },
  {
   "cell_type": "code",
   "execution_count": 1,
   "metadata": {},
   "outputs": [
    {
     "data": {
      "text/plain": [
       "True"
      ]
     },
     "execution_count": 1,
     "metadata": {},
     "output_type": "execute_result"
    }
   ],
   "source": [
    "# API 키를 환경변수로 관리하기 위한 설정 파일\n",
    "from dotenv import load_dotenv\n",
    "\n",
    "# API 키 정보 로드\n",
    "load_dotenv(override=True)"
   ]
  },
  {
   "cell_type": "markdown",
   "metadata": {},
   "source": [
    "---\n",
    "\n",
    "# 환경 설정 🛠️\n",
    "\n",
    "도구를 사용하기 전에 필요한 환경을 설정해보겠습니다."
   ]
  },
  {
   "cell_type": "code",
   "execution_count": 2,
   "metadata": {},
   "outputs": [
    {
     "name": "stdout",
     "output_type": "stream",
     "text": [
      "LangSmith 추적을 시작합니다.\n",
      "[프로젝트명]\n",
      "LangGraph-Tutorial\n"
     ]
    }
   ],
   "source": [
    "# LangSmith 추적을 설정합니다. https://smith.langchain.com\n",
    "from langchain_teddynote import logging\n",
    "\n",
    "# 프로젝트 이름을 입력합니다.\n",
    "logging.langsmith(\"LangGraph-Tutorial\")"
   ]
  },
  {
   "cell_type": "code",
   "execution_count": 3,
   "metadata": {},
   "outputs": [],
   "source": [
    "import warnings\n",
    "\n",
    "# 경고 메시지 무시\n",
    "warnings.filterwarnings(\"ignore\")"
   ]
  },
  {
   "cell_type": "markdown",
   "metadata": {},
   "source": [
    "---\n",
    "\n",
    "# 빌트인 도구 (built-in tools)\n",
    "\n",
    "LangChain에서는 다양한 **사전 정의된 도구(tool)** 와 **툴킷(toolkit)** 을 제공합니다.\n",
    "\n",
    "### 🔧 Tool vs Toolkit\n",
    "\n",
    "- **Tool**: 특정 작업을 수행하는 **단일 도구** (예: 검색, 계산, 번역 등)\n",
    "- **Toolkit**: 관련된 여러 도구를 **묶어놓은 도구 세트** (예: SQL 툴킷, 파일 관리 툴킷)\n",
    "\n",
    "### 💡 도구 활용의 핵심 개념\n",
    "\n",
    "1. **🔌 플러그인 방식**: 필요에 따라 도구를 선택하여 사용\n",
    "2. **📝 표준 인터페이스**: 모든 도구는 동일한 방식으로 호출 가능\n",
    "3. **🔗 체인 연결**: 여러 도구를 연결하여 복잡한 작업 수행\n",
    "\n",
    "**참고**\n",
    "- [LangChain Tools/Toolkits](https://python.langchain.com/docs/integrations/tools/)"
   ]
  },
  {
   "cell_type": "markdown",
   "metadata": {},
   "source": [
    "## 🐍 Python REPL 도구\n",
    "\n",
    "Python REPL(Read-Eval-Print Loop) 도구는 **실시간으로 Python 코드를 실행** 할 수 있게 해주는 강력한 도구입니다.\n",
    "\n",
    "### 💻 REPL이란?\n",
    "\n",
    "**REPL** 은 프로그래밍에서 매우 중요한 개념입니다:\n",
    "\n",
    "- **Read**: 사용자가 입력한 코드를 읽기\n",
    "- **Eval**: 입력받은 코드를 실행하기  \n",
    "- **Print**: 실행 결과를 출력하기\n",
    "- **Loop**: 이 과정을 반복하기\n",
    "\n",
    "마치 **Python 인터프리터** 를 직접 사용하는 것과 같은 경험을 제공합니다.\n",
    "\n",
    "### 🎯 PythonREPLTool의 특징\n",
    "\n",
    "- **🔒 샌드박스 환경**: 안전한 격리된 환경에서 코드 실행\n",
    "- **📊 데이터 분석**: 복잡한 계산이나 데이터 처리 작업 수행\n",
    "- **📈 시각화**: matplotlib, seaborn 등을 활용한 그래프 생성\n",
    "- **🧮 수학 연산**: NumPy, Pandas 등의 라이브러리 활용\n",
    "\n",
    "### ⚙️ 주요 매개변수\n",
    "\n",
    "- **sanitize_input**: 입력을 정제하는 옵션 (기본값: True)\n",
    "- **python_repl**: PythonREPL 인스턴스 (기본값: 전역 범위에서 실행)\n",
    "\n",
    "### 🚨 주의사항\n",
    "\n",
    "결과를 보려면 반드시 `print(...)` 함수를 사용해야 합니다. 단순히 변수명만 입력하면 출력되지 않습니다!"
   ]
  },
  {
   "cell_type": "code",
   "execution_count": 4,
   "metadata": {},
   "outputs": [],
   "source": [
    "from langchain_experimental.tools import PythonREPLTool\n",
    "\n",
    "# Python 코드를 실행할 수 있는 REPL 도구 생성\n",
    "python_tool = PythonREPLTool()"
   ]
  },
  {
   "cell_type": "code",
   "execution_count": 5,
   "metadata": {},
   "outputs": [
    {
     "name": "stderr",
     "output_type": "stream",
     "text": [
      "Python REPL can execute arbitrary code. Use with caution.\n"
     ]
    },
    {
     "name": "stdout",
     "output_type": "stream",
     "text": [
      "300\n",
      "\n"
     ]
    }
   ],
   "source": [
    "# Python 코드를 실행하고 결과를 반환\n",
    "# invoke() 메서드로 도구를 실행하고 결과를 출력\n",
    "print(python_tool.invoke(\"print(100 + 200)\"))"
   ]
  },
  {
   "cell_type": "markdown",
   "metadata": {},
   "source": [
    "### 🤖 LLM과 Python 도구 연동하기\n",
    "\n",
    "이제 **LLM이 자동으로 Python 코드를 작성하고 실행** 하는 강력한 시스템을 만들어보겠습니다.\n",
    "\n",
    "**작동 과정**:\n",
    "1. 👤 사용자가 자연어로 요청 (예: \"로또 번호를 생성해주세요\")\n",
    "2. 🤖 LLM이 요청을 이해하고 Python 코드 작성\n",
    "3. ⚙️ Python 도구가 자동으로 코드를 실행\n",
    "4. 📊 실행 결과를 사용자에게 반환\n",
    "\n",
    "이는 **자연어 → 코드 → 실행 → 결과** 의 자동화된 파이프라인입니다!"
   ]
  },
  {
   "cell_type": "code",
   "execution_count": 33,
   "metadata": {},
   "outputs": [],
   "source": [
    "from langchain_openai import ChatOpenAI\n",
    "from langchain_core.prompts import ChatPromptTemplate\n",
    "from langchain_core.output_parsers import StrOutputParser\n",
    "from langchain_core.runnables import RunnableLambda\n",
    "\n",
    "\n",
    "# Python 코드를 실행하고 중간 과정을 출력하는 함수\n",
    "def print_and_execute(code, debug=True):\n",
    "    \"\"\"Python 코드를 실행하고 결과를 반환하는 함수\"\"\"\n",
    "    if debug:\n",
    "        print(\"<Generated Code>\")\n",
    "        print(code)\n",
    "        print(\"</Generated Code>\", end=\"\\n\\n\")\n",
    "    # python_tool을 사용하여 코드 실행\n",
    "    return python_tool.invoke(code)\n",
    "\n",
    "\n",
    "# LLM이 Python 코드를 작성하도록 유도하는 프롬프트 템플릿\n",
    "prompt = ChatPromptTemplate.from_messages(\n",
    "    [\n",
    "        (\n",
    "            \"system\",\n",
    "            \"You are an expert Python programmer, well versed in meta-programming and elegant, concise and short but well documented code. You follow the PEP8 style guide. \"\n",
    "            \"Return only the code, no __main__, no intro, no explanation, no chatty, no markdown, no code block, no nothing. Just the code.\"\n",
    "            \"You should call generated function in the code.\",\n",
    "        ),\n",
    "        (\"human\", \"{input}\"),\n",
    "    ]\n",
    ")\n",
    "\n",
    "# OpenAI LLM 모델 초기화\n",
    "llm = ChatOpenAI(model=\"gpt-4.1\", temperature=0)\n",
    "\n",
    "# 체인 구성: 프롬프트 → LLM → 텍스트 파싱 → Python 실행\n",
    "chain = prompt | llm | StrOutputParser() | RunnableLambda(print_and_execute)"
   ]
  },
  {
   "cell_type": "code",
   "execution_count": 34,
   "metadata": {},
   "outputs": [
    {
     "name": "stdout",
     "output_type": "stream",
     "text": [
      "<Generated Code>\n",
      "import random\n",
      "\n",
      "def generate_lotto_numbers():\n",
      "    \"\"\"Generate a sorted list of 6 unique random lotto numbers (1-45).\"\"\"\n",
      "    return sorted(random.sample(range(1, 46), 6))\n",
      "\n",
      "print(generate_lotto_numbers())\n",
      "</Generated Code>\n",
      "\n",
      "[3, 6, 22, 29, 34, 41]\n",
      "\n"
     ]
    }
   ],
   "source": [
    "# 체인 실행: 자연어 요청을 Python 코드로 변환하여 실행\n",
    "# LLM이 로또 번호 생성 코드를 작성하고 자동으로 실행\n",
    "print(chain.invoke(\"로또 번호 생성기를 출력하는 코드를 작성하세요.\"))"
   ]
  },
  {
   "cell_type": "markdown",
   "metadata": {},
   "source": [
    "## 🔍 Tavily 검색 API 도구\n",
    "\n",
    "**Tavily 검색 API** 는 AI 애플리케이션을 위해 특별히 최적화된 **실시간 웹 검색 도구** 입니다.\n",
    "\n",
    "### 🌟 Tavily의 특별한 점\n",
    "\n",
    "일반적인 구글 검색과 달리 Tavily는 **AI가 이해하기 쉬운 형태** 로 검색 결과를 제공합니다:\n",
    "\n",
    "- **📊 구조화된 데이터**: JSON 형태로 정리된 검색 결과\n",
    "- **🎯 정확성 최적화**: AI 답변에 적합한 신뢰할 수 있는 정보\n",
    "- **⚡ 빠른 응답**: 실시간 검색 결과 제공\n",
    "- **🔐 안전한 콘텐츠**: 유해하거나 부적절한 내용 필터링\n",
    "\n",
    "### 🛠️ TavilySearch 도구의 주요 기능\n",
    "\n",
    "#### **TavilySearchResults** vs **TavilyAnswer**\n",
    "- **TavilySearchResults**: 상세한 검색 결과 목록 반환 (URL, 내용, 메타데이터 포함)\n",
    "- **TavilyAnswer**: 검색 기반 직접 답변 제공 (요약된 답변 형태)\n",
    "\n",
    "#### **핵심 매개변수들**\n",
    "\n",
    "- **max_results** (int): 반환할 검색 결과 수 (기본값: 5)\n",
    "- **search_depth** (str): 검색 깊이\n",
    "  - `\"basic\"`: 빠른 검색 (일반적인 용도)\n",
    "  - `\"advanced\"`: 심화 검색 (더 정확하지만 느림)\n",
    "- **include_domains** (List[str]): 특정 도메인만 검색 (예: [\"wikipedia.org\"])\n",
    "- **exclude_domains** (List[str]): 특정 도메인 제외\n",
    "- **include_answer** (bool): 짧은 답변 요약 포함 여부\n",
    "- **include_raw_content** (bool): 원본 HTML 콘텐츠 포함\n",
    "- **include_images** (bool): 관련 이미지 URL 포함\n",
    "\n",
    "### 🔑 API 키 발급 및 설정\n",
    "\n",
    "**API 키 발급 주소**: https://app.tavily.com/\n",
    "\n",
    "발급받은 API 키를 환경변수에 설정하세요:\n",
    "\n",
    "```bash\n",
    "# .env 파일에 추가\n",
    "TAVILY_API_KEY=tvly-abcdefghijklmnopqrstuvwxyz\n",
    "```"
   ]
  },
  {
   "cell_type": "markdown",
   "metadata": {},
   "source": [
    "**🧩 TavilySearch 주요 파라미터 설명**\n",
    "\n",
    "| 파라미터                | 타입         | 설명                                                                                 |\n",
    "|------------------------|-------------|--------------------------------------------------------------------------------------|\n",
    "| `max_results`          | `int`       | 반환할 검색 결과의 최대 개수 (기본값: 5)                                              |\n",
    "| `topic`                | `str`       | 검색 주제 또는 카테고리 (`\"general\"`, `\"news\"`, `\"finance\"` 등)                      |\n",
    "| `include_answer`       | `bool`      | 짧은 답변 요약 포함 여부 (`True`: 요약 포함, `False`: 미포함)                         |\n",
    "| `include_raw_content`  | `bool`      | 원본 HTML 콘텐츠 포함 여부 (`True`: HTML 원문 포함, `False`: 미포함)                  |\n",
    "| `include_images`       | `bool`      | 관련 이미지 URL 포함 여부 (`True`: 이미지 포함, `False`: 미포함)                      |\n",
    "| `include_image_descriptions` | `bool` | 이미지 설명 포함 여부 (`True`: 설명 포함, `False`: 미포함)                            |\n",
    "| `search_depth`         | `str`       | 검색 깊이 (`\"basic\"`: 빠른 검색, `\"advanced\"`: 심화 검색)                             |\n",
    "| `time_range`           | `str`       | 검색 기간 제한 (`\"day\"`, `\"week\"`, `\"month\"`, `\"year\"`)                              |\n",
    "| `include_domains`      | `List[str]` | 포함할 도메인 리스트 (예: `[\"wikipedia.org\"]`)                                       |\n",
    "| `exclude_domains`      | `List[str]` | 제외할 도메인 리스트 (예: `[\"twitter.com\"]`)                                         |\n",
    "| `country`              | `str`       | 국가 코드 (예: `\"KR\"` - 한국, `\"US\"` - 미국)                                         |\n",
    "| `include_favicon`      | `bool`      | 파비콘(사이트 아이콘) 포함 여부 (`True`: 포함, `False`: 미포함)                       |\n",
    "\n",
    "각 파라미터는 Tavily 검색 결과의 형태와 범위를 세밀하게 제어할 수 있도록 도와줍니다.\n"
   ]
  },
  {
   "cell_type": "code",
   "execution_count": 36,
   "metadata": {},
   "outputs": [],
   "source": [
    "from langchain_tavily import TavilySearch\n",
    "\n",
    "# Tavily 검색 도구 생성 및 설정\n",
    "tool = TavilySearch(\n",
    "    max_results=1,  # 반환할 검색 결과 수 (기본값: 5)\n",
    "    topic=\"general\",  # 검색 주제(카테고리) - \"general\": 일반 검색, \"news\": 뉴스, \"finance\": 금융\n",
    "    # include_answer=False,         # 짧은 답변 요약 포함 여부 (True: 요약 포함, False: 미포함)\n",
    "    # include_raw_content=False,    # 원본 HTML 콘텐츠 포함 여부 (True: HTML 원문 포함)\n",
    "    # include_images=False,         # 관련 이미지 URL 포함 여부 (True: 이미지 포함)\n",
    "    # include_image_descriptions=False, # 이미지 설명 포함 여부 (True: 이미지 설명 포함)\n",
    "    # search_depth=\"basic\",         # 검색 깊이 (\"basic\": 빠른 검색, \"advanced\": 심화 검색)\n",
    "    # time_range=\"day\",             # 검색 기간 제한 (\"day\": 24시간, \"week\": 7일, \"month\": 30일, \"year\": 1년)\n",
    "    # include_domains=None,         # 포함할 도메인 리스트 (예: [\"wikipedia.org\"])\n",
    "    # exclude_domains=None,         # 제외할 도메인 리스트 (예: [\"twitter.com\"])\n",
    "    # country=None,                 # 국가 코드 (예: \"KR\" - 한국, \"US\" - 미국)\n",
    "    # include_favicon=False         # 파비콘(사이트 아이콘) 포함 여부 (True: 파비콘 포함)\n",
    ")"
   ]
  },
  {
   "cell_type": "code",
   "execution_count": 37,
   "metadata": {},
   "outputs": [
    {
     "data": {
      "text/plain": [
       "{'query': 'LangChain Tools 에 대해서 알려주세요',\n",
       " 'follow_up_questions': None,\n",
       " 'answer': None,\n",
       " 'images': [],\n",
       " 'results': [{'url': 'https://wikidocs.net/262582',\n",
       "   'title': '01. 도구(Tools) - <랭체인LangChain 노트>',\n",
       "   'content': \"LangChain 에서 기본 제공하는 도구를 사용하여 쉽게 도구를 활용할 수 있으며, 사용자 정의 도구(Custom Tool) 를 쉽게 구축하는 것도 가능합니다. LangChain 한국어 튜토리얼\\\\n바로가기 👀\\\\n[LangChain] 에이전트(Agent)와 도구(tools)를 활용한 지능형 검색 시스템 구축 가이드\\\\n2024년 02월 09일\\\\n41 분 소요\\\\n이 글에서는 LangChain 의 Agent 프레임워크를 활용하여 복잡한 검색과 📍 전체 템플릿 코드\\\\n다음의 추적 링크에서 자세한 단계별 수행 결과를 확인할 수 있습니다\\\\nLangSmith 추적\\\\n마무리입니다!\\\\n 문서 기반 QA 시스템 설계 방법 - 심화편\\\\n2024년 02월 06일\\\\n22 분 소요\\\\nLangChain의 RAG 시스템을 통해 문서(PDF, txt, 웹페이지 등)에 대한 질문-답변을 찾는 과정을 정리하였습니다.\\\\n'},  {'url': 'https://wikidocs.net/234282',  'content': 'Mar 19, 2024 · langchain 은 언어 모델과 관련된 다양한 기능을 제공하는 라이브러리로, 이 중 검색 도구 생성 기능은 데이터 검색 및 처리 작업을 용이하게 한다.'}] 이 도구를 사용하면 DALL-E API를 쉽게 통합하여 텍스트 기반 이미지 생성 기능을 구현할 수 있습니다.\",\n",
       "   'score': 0.98535,\n",
       "   'raw_content': None}],\n",
       " 'response_time': 0.86,\n",
       " 'request_id': 'b932fe40-5a7c-4754-80cf-524dc2420dec'}"
      ]
     },
     "execution_count": 37,
     "metadata": {},
     "output_type": "execute_result"
    }
   ],
   "source": [
    "# Tavily 검색 도구 실행\n",
    "# \"LangChain Tools\"에 대해 검색하고 결과를 반환\n",
    "tool.invoke({\"query\": \"LangChain Tools 에 대해서 알려주세요\"})"
   ]
  },
  {
   "cell_type": "markdown",
   "metadata": {},
   "source": [
    "---\n",
    "\n",
    "# 사용자 정의 도구 (Custom Tool)\n",
    "\n",
    "LangChain의 **빌트인 도구들** 도 훌륭하지만, 때로는 **특별한 요구사항** 에 맞는 나만의 도구가 필요할 때가 있습니다.\n",
    "\n",
    "### 🎯 왜 사용자 정의 도구가 필요한가요?\n",
    "\n",
    "- **🏢 비즈니스 로직**: 회사만의 특별한 계산이나 처리 방식\n",
    "- **📊 데이터 소스**: 내부 데이터베이스나 특수한 API 연동\n",
    "- **🔧 특수 기능**: 기존 도구로는 해결할 수 없는 고유한 작업\n",
    "- **⚡ 성능 최적화**: 특정 작업에 최적화된 커스텀 로직\n",
    "\n",
    "### 💡 @tool 데코레이터 - 마법의 변환기\n",
    "\n",
    "LangChain에서는 `@tool` 데코레이터를 사용하여 **일반 Python 함수를 도구로 쉽게 변환** 할 수 있습니다.\n",
    "\n",
    "#### 🔄 변환 과정\n",
    "```python\n",
    "# 1단계: 일반 Python 함수\n",
    "def calculate_tax(amount: float) -> float:\n",
    "    return amount * 0.1\n",
    "\n",
    "# 2단계: @tool 데코레이터 적용\n",
    "@tool\n",
    "def calculate_tax(amount: float) -> float:\n",
    "    \\\"\\\"\\\"Calculate tax amount\\\"\\\"\\\"\n",
    "    return amount * 0.1\n",
    "\n",
    "# 3단계: LangChain 도구로 자동 변환 완료!\n",
    "```\n",
    "\n",
    "#### ✨ @tool 데코레이터의 장점\n",
    "\n",
    "- **🚀 간편성**: 함수 위에 한 줄만 추가하면 끝\n",
    "- **📋 자동 문서화**: 함수의 docstring을 도구 설명으로 자동 활용\n",
    "- **🔍 타입 추론**: Python 타입 힌트를 통한 자동 매개변수 검증\n",
    "- **🔗 표준 인터페이스**: 다른 LangChain 도구들과 동일한 방식으로 사용 가능\n",
    "\n",
    "이제 실제 예제를 통해 커스텀 도구를 만들어보겠습니다! 🛠️"
   ]
  },
  {
   "cell_type": "code",
   "execution_count": 38,
   "metadata": {},
   "outputs": [],
   "source": [
    "from langchain.tools import tool\n",
    "\n",
    "\n",
    "# @tool 데코레이터를 사용하여 일반 함수를 LangChain 도구로 변환\n",
    "@tool\n",
    "def add_numbers(a: int, b: int) -> int:\n",
    "    \"\"\"Add two numbers\"\"\"\n",
    "    return a + b\n",
    "\n",
    "\n",
    "@tool\n",
    "def multiply_numbers(a: int, b: int) -> int:\n",
    "    \"\"\"Multiply two numbers\"\"\"\n",
    "    return a * b"
   ]
  },
  {
   "cell_type": "code",
   "execution_count": 39,
   "metadata": {},
   "outputs": [
    {
     "data": {
      "text/plain": [
       "7"
      ]
     },
     "execution_count": 39,
     "metadata": {},
     "output_type": "execute_result"
    }
   ],
   "source": [
    "# 덧셈 도구 실행 - 딕셔너리 형태로 매개변수 전달\n",
    "add_numbers.invoke({\"a\": 3, \"b\": 4})"
   ]
  },
  {
   "cell_type": "code",
   "execution_count": 40,
   "metadata": {},
   "outputs": [
    {
     "data": {
      "text/plain": [
       "12"
      ]
     },
     "execution_count": 40,
     "metadata": {},
     "output_type": "execute_result"
    }
   ],
   "source": [
    "# 곱셈 도구 실행 - 딕셔너리 형태로 매개변수 전달\n",
    "multiply_numbers.invoke({\"a\": 3, \"b\": 4})"
   ]
  },
  {
   "cell_type": "markdown",
   "metadata": {},
   "source": [
    "## 📰 네이버 뉴스 크롤링 도구\n",
    "\n",
    "실제 웹사이트에서 데이터를 수집하는 **웹 크롤링 도구** 를 만들어보겠습니다. 이 도구는 네이버 뉴스 기사 URL을 입력받아 제목과 본문 내용을 추출합니다.\n",
    "\n",
    "### 🛠️ 사용되는 라이브러리\n",
    "\n",
    "- **requests**: HTTP 요청을 통해 웹페이지 데이터 가져오기\n",
    "- **BeautifulSoup**: HTML 파싱 및 원하는 요소 추출\n",
    "- **re**: 정규표현식을 활용한 텍스트 정리"
   ]
  },
  {
   "cell_type": "code",
   "execution_count": 41,
   "metadata": {},
   "outputs": [],
   "source": [
    "import re\n",
    "import requests\n",
    "from bs4 import BeautifulSoup\n",
    "\n",
    "\n",
    "# 네이버 뉴스 크롤링 도구 - @tool 데코레이터로 LangChain 도구로 변환\n",
    "@tool\n",
    "def naver_news_crawl(news_url: str) -> str:\n",
    "    \"\"\"Crawls a 네이버 (naver.com) news article and returns the body content.\"\"\"\n",
    "    try:\n",
    "        # 네이버 뉴스 페이지에 HTTP GET 요청 전송\n",
    "        response = requests.get(news_url)\n",
    "\n",
    "        # 요청이 성공했는지 확인\n",
    "        if response.status_code == 200:\n",
    "            # BeautifulSoup으로 HTML 문서 파싱\n",
    "            soup = BeautifulSoup(response.text, \"html.parser\")\n",
    "\n",
    "            # 뉴스 제목 추출 (네이버 뉴스의 제목 태그)\n",
    "            title = soup.find(\"h2\", id=\"title_area\").get_text()\n",
    "\n",
    "            # 뉴스 본문 내용 추출 (네이버 뉴스의 본문 태그)\n",
    "            content = soup.find(\"div\", id=\"contents\").get_text()\n",
    "\n",
    "            # 연속된 줄바꿈 문자를 하나로 정리 (텍스트 정제)\n",
    "            cleaned_title = re.sub(r\"\\n{2,}\", \"\\n\", title)\n",
    "            cleaned_content = re.sub(r\"\\n{2,}\", \"\\n\", content)\n",
    "\n",
    "            return f\"{cleaned_title}\\n{cleaned_content}\"\n",
    "        else:\n",
    "            return f\"HTTP 요청 실패. 응답 코드: {response.status_code}\"\n",
    "\n",
    "    except Exception as e:\n",
    "        return f\"크롤링 오류 발생: {str(e)}\""
   ]
  },
  {
   "cell_type": "code",
   "execution_count": 42,
   "metadata": {},
   "outputs": [
    {
     "name": "stderr",
     "output_type": "stream",
     "text": [
      "/var/folders/wn/fz0vz0td5bn8wl7wkrv30x100000gn/T/ipykernel_59160/496144458.py:1: LangChainDeprecationWarning: The method `BaseTool.__call__` was deprecated in langchain-core 0.1.47 and will be removed in 1.0. Use :meth:`~invoke` instead.\n",
      "  naver_news_crawl(\"https://n.news.naver.com/mnews/article/293/0000071509\")\n"
     ]
    },
    {
     "data": {
      "text/plain": [
       "'애플, AI 외주 맡기나…\"구글 제미나이 활용 검토\"\\n\\n\\t\\t\\t애플이 인공지능(AI) 음성비서 시리를 전면 개편하기 위해 구글의 제미나이를 활용하는 방안을 검토 중인 것으로 알려졌다. 두 기업이 협력하게 될 경우 AI 기술 구현을 위한 애플의 외부 의존도가 더욱 높아질 전망이다.\\xa0\\n/사진=픽사베이22일(현지시간) 블룸버그통신은 사안에 정통한 관계자들을 인용해 애플이 최근 맞춤형 AI 모델 구축 가능성에 대해 구글 모기업 알파벳과 논의하기 시작했다고 보도했다. 이는 내년에 출시될 개편된 시리의 기반이 될 수 있다.\\xa0구글은 이미 애플 서버에서 구동할 수 있는 AI 모델 훈련을 시작한 것으로 전해진다. 다만 논의는 초기 단계에 있으며 상업적 협상은 공식적으로 시작되지 않았다.\\xa0알파벳과의 논의는 애플 AI 시스템인 애플 인텔리전스에 챗봇을 통합하려는 작업과는 별도로 이뤄졌다. 애플은 지난해 성능 보완을 위해 오픈AI의 챗GPT가 탑재된 새 버전의 시리를 출시한 바 있다.\\xa0애플과 구글은 스마트폰, 운영체제(OS), 서비스 분야에서 경쟁하지만 검색 분야에서 협력하고 있다. 구글은 애플 제품에 자사 검색 엔진을 기본으로 탑재하기 위해 매년 애플에 수십억달러를 지급한다. 그러나 이 계약은 현재 미 법무부의 반독점 심사를 받고 있어서 결과에 따라 강제 해지될 가능성이 있다.애플은AI 개발에 늦게 뛰어들었고 최근 경쟁사를 따라잡기 위해 고군분투하고 있다. 애플은 당초 올봄 개인 데이터를 활용해 명령을 수행하고 기기를 음성만으로 제어할 수 있는 개편된 시리를 출시할 계획이었지만 기술력 문제로 이를 1년 미룬 상태다. 애플은 올해 초에도 앤트로픽과 오픈AI와의 협력 가능성을 검토한 것으로 알려졌다. 다만 애플은 자체 모델도 개발 중이어서 이를 활용하는 가능성도 완전히 배제하지 않고 있으며 이에 대한 결정은 몇 주 안에 이뤄질 전망이다.\\xa0애플은 외부업체와의 협력 가능성을 검토하는 한편 내부에서도 두 가지 버전의 새로운 시리를 개발하고 있다. 린우드(Linwood)\\'는 자체 모델을 활용한 버전이며 \\'글렌우드(Glenwood)\\'는 외부 기술을 기반으로 한다.애플의 AI 전략이 혼란을 겪고 있는 가운데 메타는 애플의 AI 모델 팀 인력을 잇달아 빼돌리고 있다. 지난달 루오밍 팡 애플 AI 모델 책임자를 시작으로 최근 부서 핵심 인력인 프랭크 추까지 최소 6명이 메타로 이탈했다.\\xa0최근 전사 회의에서 팀 쿡 최고경영자(CEO)는 \"AI에서 반드시 승리해야 한다\"며 관련 투자를 확대하고 있다고 밝혔다. 그는 애플이 새로운 시장에 가장 먼저 진입하지는 않지만 결국 더 나은 제품을 제공해왔다고 강조하며 낙관론을 피력했다. 또 쿡은 지난달 실적 발표 자리에서 타사 AI 모델 사용 여부에 대한 논평을 거부했는데 이에 대해 애플이 외부 협력을 고려 중이라는 분석이 나왔다.\\xa0\\n\\t\\t\\n최경미 기자(kmchoi@bloter.net)\\n기자 프로필\\n블로터\\n블로터\\n최경미 기자\\n최경미 기자\\n구독\\n구독중\\n구독자 0\\n응원수\\n0\\n재미있는 해외 경제·IT 소식을 전합니다. \\n러트닉 \"인텔, 반도체 지원금 대가로 정부에 지분 제공해야\"…삼성·SK 타격입나\\n삼성전자, 폴더블폰 인기에 미국서 애플 점유율 잠식 [친절한 IT]\\n블로터의 구독 많은 기자를 구독해보세요!\\n닫기\\nCopyright ⓒ 블로터. All rights reserved. 무단 전재 및 재배포 금지.\\n \\n이 기사는 언론사에서 IT 섹션으로 분류했습니다.\\n기사 섹션 분류 안내\\n기사의 섹션 정보는 해당 언론사의 분류를 따르고 있습니다. 언론사는 개별 기사를 2개 이상 섹션으로 중복 분류할 수 있습니다.\\n닫기\\n구독\\n메인에서 바로 보는 언론사 편집 뉴스 지금 바로 구독해보세요!\\n구독중\\n메인에서 바로 보는 언론사 편집 뉴스 지금 바로 확인해보세요!\\nCorporate Action 뉴스 서비스 : 넘버스\\nQR 코드를 클릭하면 크게 볼 수 있어요.\\nQR을 촬영해보세요.\\nCorporate Action 뉴스 서비스 : 넘버스\\n닫기\\n블로터\\n블로터\\n\\t\\t\\t주요뉴스해당 언론사에서 선정하며 언론사 페이지(아웃링크)로 이동해 볼 수 있습니다.\\n구글, 스마트폰 \\'픽셀10 시리즈\\'로 AI 전략 강화\\n삼성전자, 폴더블폰 인기에 미국서 애플 점유율 잠식 [친절한 IT]\\n팀 쿡의 \\'AI 낙관론\\', 애플 위기 돌파 카드 될까 [친절한 IT]\\n애플 \\'탈중국\\' 가속화에…인도, 중국 제치고 미국 스마트폰 수출 1위\\n이 기사를 추천합니다\\n기사 추천은 24시간 내 50회까지 참여할 수 있습니다.\\n닫기\\n쏠쏠정보\\n0\\n흥미진진\\n0\\n공감백배\\n0\\n분석탁월\\n0\\n후속강추\\n0\\n \\n모두에게 보여주고 싶은 기사라면?beta\\n이 기사를 추천합니다 버튼을 눌러주세요.  집계 기간 동안 추천을 많이 받은 기사는 네이버 자동 기사배열 영역에 추천 요소로 활용됩니다.\\n레이어 닫기\\n \\n블로터 언론사가 직접 선정한 이슈\\n\\t\\t\\t\\n이슈\\n월간 DCM\\n우리투자증권, 컴백 넉 달 만에 회사채 주관 \\'속도전\\' [넘버스]\\n이슈\\n유상증자 모니터\\n3자배정 나선 NH투자증권…소액주주 \\'비례적 이익\\' 침해 여부는\\n이슈\\n고려아연 경영권 분쟁\\n\"우리 회사 분쟁 연구해달라\" 고려아연의 한국재무학회 후원 \\'해프닝\\'\\n이슈\\n강소기업 줌인\\n에스트래픽, 탄탄한 해외 수주 자신감…밸류업 강화\\n이슈\\n한미약품 어디로\\n임종훈, 지분 팔며 경영권 분쟁 종료...4자연합 협력이 \\'핵심\\'\\n이전\\n다음\\n블로터 언론사홈 바로가기\\n \\n기자 구독 후 기사보기\\n구독 없이 계속 보기\\n'"
      ]
     },
     "execution_count": 42,
     "metadata": {},
     "output_type": "execute_result"
    }
   ],
   "source": [
    "naver_news_crawl(\"https://n.news.naver.com/mnews/article/293/0000071509\")"
   ]
  },
  {
   "cell_type": "markdown",
   "metadata": {},
   "source": [
    "## 📈 구글 뉴스 검색 도구\n",
    "\n",
    "`langchain-teddynote` 패키지에서 제공하는 **GoogleNews** 도구를 활용하여 최신 뉴스를 검색하는 도구입니다.\n",
    "\n",
    "### ⭐ GoogleNews 도구의 특징\n",
    "\n",
    "- **🔑 API 키 불필요**: RSS 피드를 사용하므로 별도 API 키가 필요하지 않습니다\n",
    "- **⚡ 실시간 검색**: news.google.com에서 제공하는 최신 뉴스 정보\n",
    "- **🔍 키워드 검색**: 특정 키워드로 관련 뉴스 검색 가능\n",
    "- **📅 최신순 정렬**: 가장 최근 뉴스부터 정렬되어 제공\n",
    "\n",
    "### 🛠️ 주요 기능\n",
    "\n",
    "1. **search_latest()**: 최신 뉴스 검색\n",
    "2. **search_by_keyword()**: 키워드 기반 뉴스 검색"
   ]
  },
  {
   "cell_type": "code",
   "execution_count": 43,
   "metadata": {},
   "outputs": [],
   "source": [
    "from langchain_teddynote.tools import GoogleNews\n",
    "\n",
    "# 구글 뉴스 검색 도구 생성\n",
    "news_tool = GoogleNews()"
   ]
  },
  {
   "cell_type": "code",
   "execution_count": 44,
   "metadata": {},
   "outputs": [
    {
     "data": {
      "text/plain": [
       "[{'url': 'https://news.google.com/rss/articles/CBMikAFBVV95cUxPemphNVRINGxjQTNhbHF6b3JpcVpRNmFhejUtYkxLZy1tMWx2cHdVbFl4cEtVbklHOWg4V1F0eUwxczhmcEJ2LWV6RmFySGN2cEplNkNqTElLOUpZTUlfTlJCcEthQkN1cVl2R09ja2JYM2JxbEdkdHRZamdoRGYtMndPWGpmWnhtTzNTcEx1ZEvSAaQBQVVfeXFMTXpFaHYzTHhGVFpjTWRSX3pTV1dPTDY5WFA1ejN6SE5FdUQzN21Id1hxaGtMQUxoWE9La2FULVBFb014YmlGTk1pakVsWlpCOF9GWUtqTDk3N3Z5XzVnSzhQVlQ4SG9kbTRna2NyNjFLVGtnTGFabTd0OXZWbmVxUzN6d1ZvdVF1YXBjdnNjN2pmRmUtbUhfMF9aOFJqVHN5elJFNWw?oc=5',\n",
       "  'content': '李대통령, 재일동포 만나 “애국심 잊지않고 보답하겠다” - 조선일보'},\n",
       " {'url': 'https://news.google.com/rss/articles/CBMidEFVX3lxTE9xSEZ2VnV6cVpqLVMwVkZLMEI4dE5jM0dydHZwUUVPck9vYkJhbEpKRmtnb1V3Z0ZTUXBqWl80ajN4ZV84dUpyNkdWYWRVcjdkVkhpV2pzLXRhRW0zcllkdGZHQ1JCS3ExR2JwZ2NHcTc3UF81?oc=5',\n",
       "  'content': '민주 “국힘 전당대회는 ‘전한길 전당대회’…최소 품격도 없는 퇴행” - 한겨레'},\n",
       " {'url': 'https://news.google.com/rss/articles/CBMiWkFVX3lxTFB5YWd1RzkybWVIRjluVTU1RW1SZlZXYmp3ZzBwOHVzSm45OFZhNUdZZExLX2dlWE1Mb0VJNkt6RlNMSzB2bjJnUVA2dTMycjNfQW5GVzlQdGFXQdIBX0FVX3lxTE1henM4bUJONkhySmtOVk5ITkdDa2QtaWwwSFExVUNvTEM3czdUYllUOXBSaVZXSTBMWmFXNFQwYTd2Q0FYcmhjNlA4c2hZZU5XdV9nRGZkNVJOam1DQVlF?oc=5',\n",
       "  'content': '조국 “된장찌개 영상 비방 해괴···돼지 눈에는 돼지만 보여” - 경향신문'},\n",
       " {'url': 'https://news.google.com/rss/articles/CBMid0FVX3lxTFBTdWpJa3VSa1pkQm1NV0laVW9VZkU0VFFfRTllcUluTGhTME1SWEhYS3h3QjdNQnBkZlNNRVdrVC0xSmdoOUVES3lvbG5hQU1BV01OYk1aRXVaN2ZhZDdjR2RScENhUHREaW5JaTQ1N2s1YThoNnlF0gF3QVVfeXFMTUhfRldseEFadnJlelhDdlZzeDMzcUNENnhxRXh5OTR1NWhLQjJjdHBNQ1MzNHBweWF3c3FUM1NOZ1BuamdoUXA5QWxQeGZKdjctZk96d3Q4c0VTV0NBOEVVNzl1MEdrOTNGVWhFN3dqNU5PV1locEU?oc=5',\n",
       "  'content': '전자발찌 훼손하고 도주한 40대 성범죄자 부산서 검거 - MBC 뉴스'},\n",
       " {'url': 'https://news.google.com/rss/articles/CBMihgFBVV95cUxPUWpBYldheE9iYnBEQzNZUXhOYXJoa0xvM3lJZ3dyUFJKTElIak44akNualhLU25XdmMxRVYxNExMRkdZYkRPSU5GOUlTc3otbGhHWldkdkNUaUFXZXVrNkh5TnF1eVh6UnlFa2RIMGN3RFpRREFfSGs0b2ZYU1d6YnpobEpvZ9IBmgFBVV95cUxPaVVpUEtodGZuTjh4QjM5djhfVHoxUXNBNWVWQlNOTVFFUF9PNE5wU1p5V3RQa2FES0NhbVZ6UDRWajJxSkJDbHcyQkVxMEtUbEtzaHYyOWpjS2lOY1lJVGR4RGp3VVRWSTBKeDIwdnl4YXdKZUJWcnFROE5lVUlCdFd4bDQxamZmYnZyeU8zalVCNF90MFFfUmlR?oc=5',\n",
       "  'content': '안성 공장서 폭발, 울주 공사장 20m서 추락... 근로자 2명 숨져 - 조선일보'}]"
      ]
     },
     "execution_count": 44,
     "metadata": {},
     "output_type": "execute_result"
    }
   ],
   "source": [
    "# 최신 뉴스 5개 검색 및 반환\n",
    "news_tool.search_latest(k=5)"
   ]
  },
  {
   "cell_type": "code",
   "execution_count": 45,
   "metadata": {},
   "outputs": [
    {
     "data": {
      "text/plain": [
       "[{'url': 'https://news.google.com/rss/articles/CBMiZEFVX3lxTFAtUlMtS2dBNGF4UWhlbGRjWmdEMzJCYUZiV2Z2cnlfNFJsU3ZjXzRFb25pVjBvS3QxT1h4OGh4akJ0WEFHZ3NnaV9iM040RHpKbnlrWkhMTTJoRTdvSGRYTU9Cbk8?oc=5',\n",
       "  'content': '[취재수첩] 100조원 AI 투자, 클라우드 예산 반토막의 역설 - 디지털데일리'},\n",
       " {'url': 'https://news.google.com/rss/articles/CBMickFVX3lxTE8xTkpfVVE5TG96Q0lnYlZmMnk2Mk9HbF8zNzZPRWhQMkpIWXhzdDhVLVktbDBpZ3ZKZkR4MnBnUEVOUlAwMzlBWER2RmVzTWF4S2NQcmNWa0dEYl9mSF83dlRBZlprRXZOZmN5ZWFFMTFBZw?oc=5',\n",
       "  'content': '아마존·AMD도 주목한 AI 솔루션, ‘업스테이지’ 투자 유치 - 마켓인'},\n",
       " {'url': 'https://news.google.com/rss/articles/CBMiakFVX3lxTE9CU0dKMTdWRXVlaTE0RkRtZ3JBS25Hb0E0eVg1NzctY2VCLXFMaE9KcTZDZDliM0xTWFhyQ0NCRHNRWUVXOFFsdFQxYW1ObFQzWmJ5RkJQUVR3MUVSU205NElOY1FMVkNOT0E?oc=5',\n",
       "  'content': '업스테이지, 국내 첫 아마존 투자 유치...AMD 포함 620억 규모 - AI타임스'}]"
      ]
     },
     "execution_count": 45,
     "metadata": {},
     "output_type": "execute_result"
    }
   ],
   "source": [
    "# \"AI 투자\" 키워드로 관련 뉴스 3개 검색\n",
    "news_tool.search_by_keyword(\"AI 투자\", k=3)"
   ]
  },
  {
   "cell_type": "code",
   "execution_count": 46,
   "metadata": {},
   "outputs": [],
   "source": [
    "from langchain_teddynote.tools import GoogleNews\n",
    "from langchain.tools import tool\n",
    "from typing import List, Dict\n",
    "\n",
    "\n",
    "# 키워드 기반 뉴스 검색 도구를 LangChain 도구로 변환\n",
    "@tool\n",
    "def search_keyword(query: str) -> List[Dict[str, str]]:\n",
    "    \"\"\"Look up news by keyword\"\"\"\n",
    "    # 검색어 출력 (디버깅용)\n",
    "    print(query)\n",
    "\n",
    "    # GoogleNews 인스턴스 생성\n",
    "    news_tool = GoogleNews()\n",
    "\n",
    "    # 키워드로 뉴스 검색하여 5개 결과 반환\n",
    "    return news_tool.search_by_keyword(query, k=5)"
   ]
  },
  {
   "cell_type": "code",
   "execution_count": 47,
   "metadata": {},
   "outputs": [
    {
     "name": "stdout",
     "output_type": "stream",
     "text": [
      "LangChain AI\n"
     ]
    },
    {
     "data": {
      "text/plain": [
       "[{'url': 'https://news.google.com/rss/articles/CBMibkFVX3lxTE1qMC1EYjRZOEpMNVBEVVpSNm1BX3A4a3FrdmEyOTdDNWdjMGR1ZEgzWlpHZnRFZ1pSUXdKa3JnOXBQZU5qU3dKS3Q5VUNwLVZxRFZmbG1SZzJVSUoyM2lJbnZRbzhYYUJJcnFHWmp3?oc=5',\n",
       "  'content': '랭체인 LangChain 이란 무엇인가? | 인사이트리포트 | 삼성SDS - Samsung SDS'},\n",
       " {'url': 'https://news.google.com/rss/articles/CBMiZ0FVX3lxTE1VcXJTUDZ0M0lTQ3AzS19vci1lbW9ZNU55UU5QN0ppTTljRUh2TTZ4TGNIbGIxZEJUa0gzYUF0RndKdGZTRVFYdlA5b25XbjB4cTFEMzlCMHRKNWdqWDBuWm1FWHUyWVk?oc=5',\n",
       "  'content': '마이크로소프트, 오픈 프로토콜 ‘A2A’로 경계 넘는 AI 에이전트 협업 시대 선언 - 인공지능신문'},\n",
       " {'url': 'https://news.google.com/rss/articles/CBMiT0FVX3lxTE1tQktBMXVQMFVFWUE1RnZILXMzY2Z0cW41MDVBcUtyVG5CYW80TjlNMi1tY1NNWEswWHVIOHppZU5FSzBpUVp3Qi12bGI4dms?oc=5',\n",
       "  'content': '구축부터 활용까지, 아드리엘 QA팀의 AI Agent 도입기 - 아이보스'},\n",
       " {'url': 'https://news.google.com/rss/articles/CBMiU0FVX3lxTE0wZTFPbnlMZGdaa0YyZGZLTFhIZ29iSzRXV1hJN2xuTDhZekxGTXduODlKbTlKMXFodldfTFVMRHRPUDJ5NWc2dTVwak90eUN6Y0Vr?oc=5',\n",
       "  'content': '21화 구글 내가 AI 하늘에 서겠다! A2A 해부분석 - 브런치스토리'},\n",
       " {'url': 'https://news.google.com/rss/articles/CBMiU0FVX3lxTFB4elpEOFRybFZUY0Q5WmJRYUJxdVBUdldjU3lkVDdHVno4ek9rbWxlVUhvQXp2bU5weU9iZVJZZ3lIYVctVFdGdDZ6eW5wSDZHMnNB?oc=5',\n",
       "  'content': \"송파새일센터, 'JAVA&Spring 백엔드 개발자(LangChain LLM 프로젝트)' 과정 훈련생 모집 - 네이트\"}]"
      ]
     },
     "execution_count": 47,
     "metadata": {},
     "output_type": "execute_result"
    }
   ],
   "source": [
    "# 커스텀 키워드 검색 도구 실행\n",
    "# \"LangChain AI\"에 대한 뉴스를 검색하여 반환\n",
    "search_keyword.invoke({\"query\": \"LangChain AI\"})"
   ]
  }
 ],
 "metadata": {
  "kernelspec": {
   "display_name": ".venv",
   "language": "python",
   "name": "python3"
  },
  "language_info": {
   "codemirror_mode": {
    "name": "ipython",
    "version": 3
   },
   "file_extension": ".py",
   "mimetype": "text/x-python",
   "name": "python",
   "nbconvert_exporter": "python",
   "pygments_lexer": "ipython3",
   "version": "3.11.11"
  }
 },
 "nbformat": 4,
 "nbformat_minor": 2
}
